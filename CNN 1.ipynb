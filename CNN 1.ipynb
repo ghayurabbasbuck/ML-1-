{
 "cells": [
  {
   "cell_type": "markdown",
   "id": "9c2e9b14",
   "metadata": {},
   "source": [
    "# CNN ON MNIST AND FASHION_MNIST"
   ]
  },
  {
   "cell_type": "markdown",
   "id": "4ba12acd",
   "metadata": {},
   "source": [
    "# MNIST"
   ]
  },
  {
   "cell_type": "code",
   "execution_count": 1,
   "id": "ef5fd432",
   "metadata": {},
   "outputs": [],
   "source": [
    "import numpy as np\n",
    "import pandas as pd\n",
    "import seaborn as sns\n",
    "import matplotlib.pyplot as plt\n",
    "import tensorflow as tf\n",
    "from tensorflow import keras\n",
    "from tensorflow.keras.datasets import mnist"
   ]
  },
  {
   "cell_type": "code",
   "execution_count": 2,
   "id": "5758b24c",
   "metadata": {},
   "outputs": [],
   "source": [
    "(train_images,train_labels),(test_images,test_labels) = mnist.load_data()"
   ]
  },
  {
   "cell_type": "code",
   "execution_count": 3,
   "id": "9eef600c",
   "metadata": {},
   "outputs": [
    {
     "name": "stdout",
     "output_type": "stream",
     "text": [
      "60000\n",
      "10000\n",
      "60000\n",
      "10000\n"
     ]
    }
   ],
   "source": [
    "print(len(train_images))\n",
    "print(len(test_images))      \n",
    "print(len(train_labels))\n",
    "print(len(test_labels))  "
   ]
  },
  {
   "cell_type": "code",
   "execution_count": 4,
   "id": "c763dc3c",
   "metadata": {},
   "outputs": [
    {
     "data": {
      "text/plain": [
       "(60000, 28, 28)"
      ]
     },
     "execution_count": 4,
     "metadata": {},
     "output_type": "execute_result"
    }
   ],
   "source": [
    "train_images.shape"
   ]
  },
  {
   "cell_type": "code",
   "execution_count": 5,
   "id": "7ca078f2",
   "metadata": {},
   "outputs": [
    {
     "data": {
      "text/plain": [
       "(60000,)"
      ]
     },
     "execution_count": 5,
     "metadata": {},
     "output_type": "execute_result"
    }
   ],
   "source": [
    "train_labels.shape"
   ]
  },
  {
   "cell_type": "code",
   "execution_count": 26,
   "id": "3ea61c22",
   "metadata": {},
   "outputs": [
    {
     "data": {
      "image/png": "[encoded data removed]",
      "text/plain": [
       "<Figure size 640x480 with 1 Axes>"
      ]
     },
     "metadata": {},
     "output_type": "display_data"
    }
   ],
   "source": [
    "plt.imshow(train_images[0],cmap = plt.cm.binary)\n",
    "plt.axis('off')\n",
    "plt.show()"
   ]
  },
  {
   "cell_type": "code",
   "execution_count": 6,
   "id": "b290171e",
   "metadata": {},
   "outputs": [],
   "source": [
    "train_images = train_images/255\n",
    "test_images = test_images/255"
   ]
  },
  {
   "cell_type": "code",
   "execution_count": 7,
   "id": "b49ba5ef",
   "metadata": {},
   "outputs": [],
   "source": [
    "def model_CNN():\n",
    "    model = keras.Sequential([keras.layers.Input(shape = (28,28,1)),\n",
    "                             keras.layers.Conv2D(64,(3,3), activation = 'ReLU'),\n",
    "                             keras.layers.MaxPooling2D(2,2),\n",
    "                             keras.layers.Flatten(),\n",
    "                             keras.layers.Dense(128, activation = 'ReLU'),\n",
    "                             keras.layers.Dense(64, activation = 'ReLU'),\n",
    "                             keras.layers.Dense(10, activation = 'sigmoid')],\n",
    "                            name = 'CNN')\n",
    "    model.compile(optimizer = 'adam', loss = 'sparse_categorical_crossentropy', metrics = ['accuracy'])\n",
    "    return model"
   ]
  },
  {
   "cell_type": "code",
   "execution_count": 8,
   "id": "cf9fd4ea",
   "metadata": {},
   "outputs": [
    {
     "name": "stdout",
     "output_type": "stream",
     "text": [
      "Model: \"CNN\"\n",
      "_________________________________________________________________\n",
      " Layer (type)                Output Shape              Param #   \n",
      "=================================================================\n",
      " conv2d (Conv2D)             (None, 26, 26, 64)        640       \n",
      "                                                                 \n",
      " max_pooling2d (MaxPooling2  (None, 13, 13, 64)        0         \n",
      " D)                                                              \n",
      "                                                                 \n",
      " flatten (Flatten)           (None, 10816)             0         \n",
      "                                                                 \n",
      " dense (Dense)               (None, 128)               1384576   \n",
      "                                                                 \n",
      " dense_1 (Dense)             (None, 64)                8256      \n",
      "                                                                 \n",
      " dense_2 (Dense)             (None, 10)                650       \n",
      "                                                                 \n",
      "=================================================================\n",
      "Total params: 1394122 (5.32 MB)\n",
      "Trainable params: 1394122 (5.32 MB)\n",
      "Non-trainable params: 0 (0.00 Byte)\n",
      "_________________________________________________________________\n"
     ]
    }
   ],
   "source": [
    "model = model_CNN()\n",
    "model.summary()"
   ]
  },
  {
   "cell_type": "code",
   "execution_count": 9,
   "id": "e1591efb",
   "metadata": {},
   "outputs": [
    {
     "name": "stdout",
     "output_type": "stream",
     "text": [
      "Epoch 1/20\n",
      "1875/1875 [==============================] - 88s 46ms/step - loss: 0.1445 - accuracy: 0.9564\n",
      "Epoch 2/20\n",
      "1875/1875 [==============================] - 88s 47ms/step - loss: 0.0504 - accuracy: 0.9843\n",
      "Epoch 3/20\n",
      "1875/1875 [==============================] - 86s 46ms/step - loss: 0.0315 - accuracy: 0.9903\n",
      "Epoch 4/20\n",
      "1875/1875 [==============================] - 79s 42ms/step - loss: 0.0209 - accuracy: 0.9933\n",
      "Epoch 5/20\n",
      "1875/1875 [==============================] - 93s 50ms/step - loss: 0.0150 - accuracy: 0.9951\n",
      "Epoch 6/20\n",
      "1875/1875 [==============================] - 103s 55ms/step - loss: 0.0125 - accuracy: 0.9958\n",
      "Epoch 7/20\n",
      "1875/1875 [==============================] - 92s 49ms/step - loss: 0.0094 - accuracy: 0.9968\n",
      "Epoch 8/20\n",
      "1875/1875 [==============================] - 106s 56ms/step - loss: 0.0076 - accuracy: 0.9975\n",
      "Epoch 9/20\n",
      "1875/1875 [==============================] - 100s 53ms/step - loss: 0.0079 - accuracy: 0.9974\n",
      "Epoch 10/20\n",
      "1875/1875 [==============================] - 97s 52ms/step - loss: 0.0044 - accuracy: 0.9985\n",
      "Epoch 11/20\n",
      "1875/1875 [==============================] - 94s 50ms/step - loss: 0.0060 - accuracy: 0.9981\n",
      "Epoch 12/20\n",
      "1875/1875 [==============================] - 96s 51ms/step - loss: 0.0052 - accuracy: 0.9983\n",
      "Epoch 13/20\n",
      "1875/1875 [==============================] - 86s 46ms/step - loss: 0.0033 - accuracy: 0.9989\n",
      "Epoch 14/20\n",
      "1875/1875 [==============================] - 90s 48ms/step - loss: 0.0057 - accuracy: 0.9984\n",
      "Epoch 15/20\n",
      "1875/1875 [==============================] - 93s 50ms/step - loss: 0.0036 - accuracy: 0.9987\n",
      "Epoch 16/20\n",
      "1875/1875 [==============================] - 122s 65ms/step - loss: 0.0039 - accuracy: 0.9987\n",
      "Epoch 17/20\n",
      "1875/1875 [==============================] - 93s 50ms/step - loss: 0.0042 - accuracy: 0.9988\n",
      "Epoch 18/20\n",
      "1875/1875 [==============================] - 107s 57ms/step - loss: 0.0045 - accuracy: 0.9987\n",
      "Epoch 19/20\n",
      "1875/1875 [==============================] - 84s 45ms/step - loss: 0.0031 - accuracy: 0.9991\n",
      "Epoch 20/20\n",
      "1875/1875 [==============================] - 91s 48ms/step - loss: 0.0030 - accuracy: 0.9992\n"
     ]
    }
   ],
   "source": [
    "history = model.fit(train_images,train_labels, epochs = 20, shuffle = True)"
   ]
  },
  {
   "cell_type": "code",
   "execution_count": 11,
   "id": "a3bc59d1",
   "metadata": {},
   "outputs": [
    {
     "name": "stdout",
     "output_type": "stream",
     "text": [
      "313/313 [==============================] - 3s 8ms/step - loss: 0.0831 - accuracy: 0.9848\n"
     ]
    },
    {
     "data": {
      "text/plain": [
       "[0.0831349566578865, 0.9847999811172485]"
      ]
     },
     "execution_count": 11,
     "metadata": {},
     "output_type": "execute_result"
    }
   ],
   "source": [
    "model.evaluate(test_images,test_labels)"
   ]
  },
  {
   "cell_type": "code",
   "execution_count": 12,
   "id": "21ebe8f3",
   "metadata": {},
   "outputs": [
    {
     "name": "stdout",
     "output_type": "stream",
     "text": [
      "313/313 [==============================] - 3s 9ms/step\n"
     ]
    }
   ],
   "source": [
    "ypred = model.predict(test_images)"
   ]
  },
  {
   "cell_type": "code",
   "execution_count": 13,
   "id": "0f9caee5",
   "metadata": {},
   "outputs": [
    {
     "data": {
      "text/plain": [
       "array([[2.70051487e-06, 3.36037090e-07, 8.69169482e-04, 1.37094796e-01,\n",
       "        1.35033843e-04, 4.26423730e-06, 1.24075888e-11, 1.00000000e+00,\n",
       "        3.64000982e-07, 3.12250704e-05],\n",
       "       [1.03989709e-02, 4.98599184e-05, 1.00000000e+00, 9.53379276e-06,\n",
       "        1.14411485e-07, 1.35275237e-11, 5.71878864e-08, 6.79804893e-11,\n",
       "        5.22788167e-02, 6.63601043e-07],\n",
       "       [9.35200887e-07, 1.00000000e+00, 4.92879748e-03, 7.10873451e-07,\n",
       "        3.35991114e-01, 5.23199618e-04, 4.40628526e-07, 1.57975078e-01,\n",
       "        1.71048188e-04, 3.62380852e-05],\n",
       "       [1.00000000e+00, 3.53074320e-05, 2.33754865e-04, 4.74133159e-08,\n",
       "        5.89458523e-06, 2.93984594e-05, 8.11547600e-03, 1.53063575e-03,\n",
       "        8.68143275e-07, 1.10441735e-02],\n",
       "       [6.29280919e-07, 1.69919676e-05, 1.09672556e-02, 8.81664846e-07,\n",
       "        1.00000000e+00, 2.34684837e-03, 2.10848870e-04, 2.21595042e-06,\n",
       "        2.45082134e-04, 8.63607407e-01]], dtype=float32)"
      ]
     },
     "execution_count": 13,
     "metadata": {},
     "output_type": "execute_result"
    }
   ],
   "source": [
    "ypred[:5]"
   ]
  },
  {
   "cell_type": "code",
   "execution_count": 15,
   "id": "b5a3bcc9",
   "metadata": {},
   "outputs": [],
   "source": [
    "ypred_label = [np.argmax(i) for i in ypred]"
   ]
  },
  {
   "cell_type": "code",
   "execution_count": 16,
   "id": "e86df670",
   "metadata": {},
   "outputs": [
    {
     "data": {
      "text/plain": [
       "[7, 2, 1, 0, 4]"
      ]
     },
     "execution_count": 16,
     "metadata": {},
     "output_type": "execute_result"
    }
   ],
   "source": [
    "ypred_label[:5]"
   ]
  },
  {
   "cell_type": "code",
   "execution_count": 17,
   "id": "f964a069",
   "metadata": {},
   "outputs": [
    {
     "data": {
      "text/plain": [
       "array([7, 2, 1, 0, 4], dtype=uint8)"
      ]
     },
     "execution_count": 17,
     "metadata": {},
     "output_type": "execute_result"
    }
   ],
   "source": [
    "test_labels[:5]"
   ]
  },
  {
   "cell_type": "code",
   "execution_count": 39,
   "id": "566796ad",
   "metadata": {},
   "outputs": [
    {
     "name": "stdout",
     "output_type": "stream",
     "text": [
      "1/1 [==============================] - 0s 84ms/step\n",
      "given number is probably a 4\n"
     ]
    },
    {
     "data": {
      "image/png": "[encoded data removed]",
      "text/plain": [
       "<Figure size 200x200 with 1 Axes>"
      ]
     },
     "metadata": {},
     "output_type": "display_data"
    }
   ],
   "source": [
    "import cv2 as cv\n",
    "img = cv.imread(\"four.jpg\")[:,:,0]\n",
    "img = cv.resize(img,(28,28))\n",
    "img = np.invert(np.array([img]))\n",
    "prediction = model.predict(img)\n",
    "print(\"given number is probably a \"+ str(np.argmax(prediction)))\n",
    "plt.figure(figsize=(2,2))\n",
    "plt.imshow(img[0],cmap = plt.cm.binary)\n",
    "plt.axis(\"off\")\n",
    "plt.show()"
   ]
  },
  {
   "cell_type": "markdown",
   "id": "5967fdac",
   "metadata": {},
   "source": [
    "# FASHION MNIST"
   ]
  },
  {
   "cell_type": "code",
   "execution_count": 18,
   "id": "574702e4",
   "metadata": {},
   "outputs": [],
   "source": [
    "import numpy as np\n",
    "import pandas as pd\n",
    "import matplotlib.pyplot as plt\n",
    "import tensorflow as tf\n",
    "from tensorflow import keras"
   ]
  },
  {
   "cell_type": "code",
   "execution_count": 19,
   "id": "f14b0abe",
   "metadata": {},
   "outputs": [],
   "source": [
    "fmnist = tf.keras.datasets.fashion_mnist"
   ]
  },
  {
   "cell_type": "code",
   "execution_count": 27,
   "id": "2fc0eadd",
   "metadata": {},
   "outputs": [],
   "source": [
    "(train_images,train_labels),(test_images,test_labels) = fmnist.load_data()"
   ]
  },
  {
   "cell_type": "code",
   "execution_count": 28,
   "id": "af0baaeb",
   "metadata": {},
   "outputs": [
    {
     "data": {
      "text/plain": [
       "(60000, 28, 28)"
      ]
     },
     "execution_count": 28,
     "metadata": {},
     "output_type": "execute_result"
    }
   ],
   "source": [
    "train_images.shape"
   ]
  },
  {
   "cell_type": "code",
   "execution_count": 29,
   "id": "ee23d678",
   "metadata": {},
   "outputs": [
    {
     "data": {
      "image/png": "[encoded data removed]",
      "text/plain": [
       "<Figure size 640x480 with 1 Axes>"
      ]
     },
     "metadata": {},
     "output_type": "display_data"
    }
   ],
   "source": [
    "plt.imshow(train_images[0],cmap=\"gray\")\n",
    "plt.show()"
   ]
  },
  {
   "cell_type": "code",
   "execution_count": 30,
   "id": "5a00d72e",
   "metadata": {},
   "outputs": [],
   "source": [
    "train_images = train_images/255\n",
    "test_images = test_images/255"
   ]
  },
  {
   "cell_type": "code",
   "execution_count": 31,
   "id": "6b86fd31",
   "metadata": {},
   "outputs": [
    {
     "data": {
      "text/plain": [
       "(60000, 28, 28)"
      ]
     },
     "execution_count": 31,
     "metadata": {},
     "output_type": "execute_result"
    }
   ],
   "source": [
    "train_images.shape"
   ]
  },
  {
   "cell_type": "code",
   "execution_count": 32,
   "id": "0a023685",
   "metadata": {},
   "outputs": [
    {
     "name": "stdout",
     "output_type": "stream",
     "text": [
      "Model: \"CNN_FMNIST\"\n",
      "_________________________________________________________________\n",
      " Layer (type)                Output Shape              Param #   \n",
      "=================================================================\n",
      " conv2d_1 (Conv2D)           (None, 26, 26, 64)        640       \n",
      "                                                                 \n",
      " max_pooling2d_1 (MaxPoolin  (None, 13, 13, 64)        0         \n",
      " g2D)                                                            \n",
      "                                                                 \n",
      " conv2d_2 (Conv2D)           (None, 11, 11, 64)        36928     \n",
      "                                                                 \n",
      " max_pooling2d_2 (MaxPoolin  (None, 5, 5, 64)          0         \n",
      " g2D)                                                            \n",
      "                                                                 \n",
      " flatten_1 (Flatten)         (None, 1600)              0         \n",
      "                                                                 \n",
      " dense_3 (Dense)             (None, 128)               204928    \n",
      "                                                                 \n",
      " dense_4 (Dense)             (None, 128)               16512     \n",
      "                                                                 \n",
      " dense_5 (Dense)             (None, 10)                1290      \n",
      "                                                                 \n",
      "=================================================================\n",
      "Total params: 260298 (1016.79 KB)\n",
      "Trainable params: 260298 (1016.79 KB)\n",
      "Non-trainable params: 0 (0.00 Byte)\n",
      "_________________________________________________________________\n"
     ]
    }
   ],
   "source": [
    "def modelCNN2():\n",
    "    model2 = keras.Sequential([keras.layers.Input(shape=(28,28,1)),\n",
    "                              keras.layers.Conv2D(64, (3,3), activation = \"ReLU\"),\n",
    "                              keras.layers.MaxPooling2D(2,2),\n",
    "                              keras.layers.Conv2D(64, (3,3), activation = \"ReLU\"),\n",
    "                              keras.layers.MaxPooling2D(2,2),\n",
    "                              keras.layers.Flatten(),\n",
    "                              keras.layers.Dense(128, activation = \"ReLU\"),\n",
    "                              keras.layers.Dense(128, activation = \"ReLU\"),\n",
    "                              keras.layers.Dense(10, activation = \"sigmoid\")],\n",
    "                             name = \"CNN_FMNIST\")\n",
    "    model2.compile(optimizer=\"adam\", loss = \"sparse_categorical_crossentropy\", metrics=[\"accuracy\"])\n",
    "    return model2\n",
    "model2 = modelCNN2()\n",
    "model2.summary()"
   ]
  },
  {
   "cell_type": "code",
   "execution_count": 33,
   "id": "9b395cee",
   "metadata": {},
   "outputs": [
    {
     "name": "stdout",
     "output_type": "stream",
     "text": [
      "Epoch 1/5\n",
      "1875/1875 [==============================] - 79s 41ms/step - loss: 0.4521 - accuracy: 0.8352\n",
      "Epoch 2/5\n",
      "1875/1875 [==============================] - 85s 45ms/step - loss: 0.2951 - accuracy: 0.8914\n",
      "Epoch 3/5\n",
      "1875/1875 [==============================] - 81s 43ms/step - loss: 0.2493 - accuracy: 0.9079\n",
      "Epoch 4/5\n",
      "1875/1875 [==============================] - 99s 53ms/step - loss: 0.2164 - accuracy: 0.9190\n",
      "Epoch 5/5\n",
      "1875/1875 [==============================] - 87s 46ms/step - loss: 0.1906 - accuracy: 0.9284\n"
     ]
    },
    {
     "data": {
      "text/plain": [
       "<keras.src.callbacks.History at 0x283c9e2cf40>"
      ]
     },
     "execution_count": 33,
     "metadata": {},
     "output_type": "execute_result"
    }
   ],
   "source": [
    "model2.fit(train_images,train_labels, epochs=5, shuffle=True)"
   ]
  },
  {
   "cell_type": "code",
   "execution_count": 34,
   "id": "a6506b2c",
   "metadata": {},
   "outputs": [
    {
     "name": "stdout",
     "output_type": "stream",
     "text": [
      "313/313 [==============================] - 4s 13ms/step - loss: 0.2578 - accuracy: 0.9076\n",
      "Loss :25.779137015342712\n",
      "Accuracy :90.75999855995178\n"
     ]
    }
   ],
   "source": [
    "val_loss,val_acc = model2.evaluate(test_images, test_labels)\n",
    "print(\"Loss :\"+ str(val_loss*100))\n",
    "print(\"Accuracy :\"+ str(val_acc*100))"
   ]
  },
  {
   "cell_type": "code",
   "execution_count": 35,
   "id": "cbf948b8",
   "metadata": {},
   "outputs": [],
   "source": [
    "model2.save(\"Fashion.keras\")"
   ]
  },
  {
   "cell_type": "code",
   "execution_count": 36,
   "id": "92394627",
   "metadata": {},
   "outputs": [],
   "source": [
    "model2 = tf.keras.models.load_model(\"Fashion.keras\")"
   ]
  },
  {
   "cell_type": "code",
   "execution_count": 37,
   "id": "550c7d26",
   "metadata": {},
   "outputs": [
    {
     "name": "stdout",
     "output_type": "stream",
     "text": [
      "1/1 [==============================] - 0s 161ms/step\n",
      "Given number image is probably a 5\n"
     ]
    },
    {
     "data": {
      "image/png": "[encoded data removed]",
      "text/plain": [
       "<Figure size 200x200 with 1 Axes>"
      ]
     },
     "metadata": {},
     "output_type": "display_data"
    }
   ],
   "source": [
    "import cv2 as cv\n",
    "img = cv.imread(\"sandal.jpg\")[:,:,0]\n",
    "img = cv.resize(img,(28,28))\n",
    "img = np.invert(np.array([img]))\n",
    "prediction = model2.predict(img)\n",
    "print(\"Given number image is probably a \" + str(np.argmax(prediction)))\n",
    "plt.figure(figsize=(2,2))\n",
    "plt.imshow(img[0], cmap=plt.cm.binary)\n",
    "plt.axis(\"off\")\n",
    "plt.show()"
   ]
  },
  {
   "cell_type": "code",
   "execution_count": null,
   "id": "f1e8f404",
   "metadata": {},
   "outputs": [],
   "source": []
  }
 ],
 "metadata": {
  "kernelspec": {
   "display_name": "Python 3 (ipykernel)",
   "language": "python",
   "name": "python3"
  },
  "language_info": {
   "codemirror_mode": {
    "name": "ipython",
    "version": 3
   },
   "file_extension": ".py",
   "mimetype": "text/x-python",
   "name": "python",
   "nbconvert_exporter": "python",
   "pygments_lexer": "ipython3",
   "version": "3.10.9"
  }
 },
 "nbformat": 4,
 "nbformat_minor": 5
}
