{
 "cells": [
  {
   "cell_type": "markdown",
   "id": "8e7b8035",
   "metadata": {},
   "source": [
    "# Numpy Basic"
   ]
  },
  {
   "cell_type": "code",
   "execution_count": 1,
   "id": "20ed28d2",
   "metadata": {},
   "outputs": [],
   "source": [
    "import numpy as np"
   ]
  },
  {
   "cell_type": "code",
   "execution_count": 2,
   "id": "9bf893b1",
   "metadata": {},
   "outputs": [
    {
     "name": "stdout",
     "output_type": "stream",
     "text": [
      "[1 2 3 4 5]\n"
     ]
    }
   ],
   "source": [
    "a = [1,2,3,4,5]\n",
    "a1 = np.array(a)\n",
    "print(a1)"
   ]
  },
  {
   "cell_type": "code",
   "execution_count": 3,
   "id": "0697c4ff",
   "metadata": {},
   "outputs": [
    {
     "name": "stdout",
     "output_type": "stream",
     "text": [
      "[ 5  4 32  2]\n"
     ]
    }
   ],
   "source": [
    "a = np.array([5,4,32,2])\n",
    "print(a)"
   ]
  },
  {
   "cell_type": "code",
   "execution_count": 5,
   "id": "0e6cd7a0",
   "metadata": {},
   "outputs": [
    {
     "name": "stdout",
     "output_type": "stream",
     "text": [
      "[ 1  2 20 28]\n",
      "int8\n"
     ]
    }
   ],
   "source": [
    "a = [1,2,20,28]\n",
    "a1 = np.array(a,np.int8)\n",
    "print(a1)\n",
    "print(a1.dtype)"
   ]
  },
  {
   "cell_type": "code",
   "execution_count": 7,
   "id": "4e544b55",
   "metadata": {},
   "outputs": [
    {
     "name": "stdout",
     "output_type": "stream",
     "text": [
      "[  5   4 -50   6]\n",
      "int8\n"
     ]
    }
   ],
   "source": [
    "a = np.array([5,4,3222222,6],np.int8)\n",
    "print(a)\n",
    "print(a.dtype)"
   ]
  },
  {
   "cell_type": "code",
   "execution_count": 12,
   "id": "4932fc7b",
   "metadata": {},
   "outputs": [
    {
     "name": "stdout",
     "output_type": "stream",
     "text": [
      "5\n"
     ]
    }
   ],
   "source": [
    "a4 = np.array([1,2,3,4,5])\n",
    "print(a4[4])\n"
   ]
  },
  {
   "cell_type": "markdown",
   "id": "d35a1435",
   "metadata": {},
   "source": [
    "# ONE_D ARRAY"
   ]
  },
  {
   "cell_type": "code",
   "execution_count": 38,
   "id": "a7da96c3",
   "metadata": {},
   "outputs": [
    {
     "name": "stdout",
     "output_type": "stream",
     "text": [
      "[1 2 3 4 6]\n",
      "int32\n",
      "(5,)\n",
      "5\n"
     ]
    }
   ],
   "source": [
    "o_d =np.array([1,2,3,4,6],np.int32)\n",
    "print(o_d)\n",
    "print(o_d.dtype)\n",
    "print(o_d.shape)\n",
    "print(o_d.size)"
   ]
  },
  {
   "cell_type": "markdown",
   "id": "a6edf891",
   "metadata": {},
   "source": [
    "# TWO_D ARRAY"
   ]
  },
  {
   "cell_type": "code",
   "execution_count": 48,
   "id": "ce03a3b4",
   "metadata": {},
   "outputs": [
    {
     "name": "stdout",
     "output_type": "stream",
     "text": [
      "[[1 2 3]\n",
      " [4 5 6]]\n",
      "int64\n",
      "(2, 3)\n",
      "6\n"
     ]
    }
   ],
   "source": [
    "two_d = np.array([[1,2,3],[4,5,6]],np.int64)\n",
    "print(two_d)\n",
    "print(two_d.dtype)\n",
    "print(two_d.shape)\n",
    "print(two_d.size)"
   ]
  },
  {
   "cell_type": "markdown",
   "id": "afb18aba",
   "metadata": {},
   "source": [
    "# THREE_D ARRAY"
   ]
  },
  {
   "cell_type": "code",
   "execution_count": 49,
   "id": "68c3f395",
   "metadata": {},
   "outputs": [
    {
     "name": "stdout",
     "output_type": "stream",
     "text": [
      "[[[1 2]\n",
      "  [3 4]\n",
      "  [5 6]]]\n",
      "(1, 3, 2)\n",
      "int32\n",
      "6\n"
     ]
    }
   ],
   "source": [
    "t_d = np.array([[[1,2],[3,4],[5,6]]])\n",
    "print(t_d)\n",
    "print(t_d.shape)\n",
    "print(t_d.dtype)\n",
    "print(t_d.size)"
   ]
  },
  {
   "cell_type": "code",
   "execution_count": 50,
   "id": "865a51a9",
   "metadata": {},
   "outputs": [
    {
     "name": "stdout",
     "output_type": "stream",
     "text": [
      "[[[[[[4 5]]]]]]\n",
      "(1, 1, 1, 1, 1, 2)\n",
      "2\n",
      "int32\n"
     ]
    }
   ],
   "source": [
    "a = np.array([[[[[[4,5]]]]]])\n",
    "print(a)\n",
    "print(a.shape)\n",
    "print(a.size)\n",
    "print(a.dtype)"
   ]
  },
  {
   "cell_type": "code",
   "execution_count": 47,
   "id": "2850a09c",
   "metadata": {},
   "outputs": [
    {
     "name": "stdout",
     "output_type": "stream",
     "text": [
      "[ 1  2  3 10  4  5]\n",
      "6\n",
      "(6,)\n",
      "int32\n"
     ]
    }
   ],
   "source": [
    "r = [1,2,3,3,4,5]\n",
    "r1 = np.array(r)\n",
    "r1[3] = 10\n",
    "print(r1)\n",
    "print(r1.size)\n",
    "print(r1.shape)\n",
    "print(r1.dtype)"
   ]
  },
  {
   "cell_type": "markdown",
   "id": "311fc9ae",
   "metadata": {},
   "source": [
    "# INTRINSIC NUMPY"
   ]
  },
  {
   "cell_type": "markdown",
   "id": "58c10e0b",
   "metadata": {},
   "source": [
    "# Zeros"
   ]
  },
  {
   "cell_type": "code",
   "execution_count": 53,
   "id": "28a5b00a",
   "metadata": {},
   "outputs": [
    {
     "name": "stdout",
     "output_type": "stream",
     "text": [
      "[[0. 0. 0.]\n",
      " [0. 0. 0.]\n",
      " [0. 0. 0.]]\n"
     ]
    }
   ],
   "source": [
    "z = np.zeros((3,3))\n",
    "print(z)"
   ]
  },
  {
   "cell_type": "code",
   "execution_count": 54,
   "id": "80c881e7",
   "metadata": {},
   "outputs": [
    {
     "name": "stdout",
     "output_type": "stream",
     "text": [
      "[[0. 0. 0. 0.]\n",
      " [0. 0. 0. 0.]\n",
      " [0. 0. 0. 0.]\n",
      " [0. 0. 0. 0.]]\n"
     ]
    }
   ],
   "source": [
    "z1 = np.zeros((4,4))\n",
    "print(z1)"
   ]
  },
  {
   "cell_type": "markdown",
   "id": "b46887ad",
   "metadata": {},
   "source": [
    "# ARANGE"
   ]
  },
  {
   "cell_type": "code",
   "execution_count": 60,
   "id": "36928b26",
   "metadata": {},
   "outputs": [
    {
     "name": "stdout",
     "output_type": "stream",
     "text": [
      "[0 1 2]\n"
     ]
    }
   ],
   "source": [
    "a = np.arange((3))\n",
    "print(a)"
   ]
  },
  {
   "cell_type": "markdown",
   "id": "138095b1",
   "metadata": {},
   "source": [
    "# RESHAPE"
   ]
  },
  {
   "cell_type": "code",
   "execution_count": 64,
   "id": "57e9c744",
   "metadata": {},
   "outputs": [
    {
     "name": "stdout",
     "output_type": "stream",
     "text": [
      "[[3 4 5]\n",
      " [6 7 4]]\n"
     ]
    }
   ],
   "source": [
    "r = np.array([3,4,5,6,7,4])\n",
    "print(r.reshape(2,3))"
   ]
  },
  {
   "cell_type": "code",
   "execution_count": 65,
   "id": "75808da5",
   "metadata": {},
   "outputs": [
    {
     "name": "stdout",
     "output_type": "stream",
     "text": [
      "[[3 4]\n",
      " [5 6]\n",
      " [7 4]]\n"
     ]
    }
   ],
   "source": [
    "print(r.reshape(3,2))"
   ]
  },
  {
   "cell_type": "markdown",
   "id": "79445186",
   "metadata": {},
   "source": [
    "# RAVEL"
   ]
  },
  {
   "cell_type": "code",
   "execution_count": 66,
   "id": "d7d8201a",
   "metadata": {},
   "outputs": [
    {
     "name": "stdout",
     "output_type": "stream",
     "text": [
      "[3 4 5 6 7 4]\n"
     ]
    }
   ],
   "source": [
    "print(r.ravel())"
   ]
  },
  {
   "cell_type": "code",
   "execution_count": 68,
   "id": "c0374056",
   "metadata": {},
   "outputs": [
    {
     "name": "stdout",
     "output_type": "stream",
     "text": [
      "[[1 2 3 4]\n",
      " [5 6 7 8]]\n",
      "[1 2 3 4 5 6 7 8]\n"
     ]
    }
   ],
   "source": [
    "r2 = np.array([1,2,3,4,5,6,7,8])\n",
    "print(r2.reshape(2,4))\n",
    "print(r2.ravel())"
   ]
  },
  {
   "cell_type": "markdown",
   "id": "f43f90ac",
   "metadata": {},
   "source": [
    "# LINSPACE"
   ]
  },
  {
   "cell_type": "code",
   "execution_count": 69,
   "id": "f1883e31",
   "metadata": {},
   "outputs": [
    {
     "name": "stdout",
     "output_type": "stream",
     "text": [
      "[1.         1.44444444 1.88888889 2.33333333 2.77777778 3.22222222\n",
      " 3.66666667 4.11111111 4.55555556 5.        ]\n"
     ]
    }
   ],
   "source": [
    "l = np.linspace(1,5,10)\n",
    "print(l)"
   ]
  },
  {
   "cell_type": "code",
   "execution_count": 71,
   "id": "ccf4d292",
   "metadata": {},
   "outputs": [
    {
     "name": "stdout",
     "output_type": "stream",
     "text": [
      "[ 2.   4.5  7.   9.5 12. ]\n"
     ]
    }
   ],
   "source": [
    "l2 = np.linspace(2,12,5)\n",
    "print(l2)"
   ]
  },
  {
   "cell_type": "markdown",
   "id": "8c00028e",
   "metadata": {},
   "source": [
    "# EMPTY"
   ]
  },
  {
   "cell_type": "code",
   "execution_count": 73,
   "id": "d4137432",
   "metadata": {},
   "outputs": [
    {
     "name": "stdout",
     "output_type": "stream",
     "text": [
      "[[0. 0. 0.]\n",
      " [0. 0. 0.]\n",
      " [0. 0. 0.]]\n"
     ]
    }
   ],
   "source": [
    "import numpy as np\n",
    "e = np.empty((3,3))\n",
    "print(e)"
   ]
  },
  {
   "cell_type": "markdown",
   "id": "c9635c9f",
   "metadata": {},
   "source": [
    "# IDENTITY"
   ]
  },
  {
   "cell_type": "code",
   "execution_count": 77,
   "id": "1266b69e",
   "metadata": {},
   "outputs": [
    {
     "data": {
      "text/plain": [
       "array([[1., 0., 0.],\n",
       "       [0., 1., 0.],\n",
       "       [0., 0., 1.]])"
      ]
     },
     "execution_count": 77,
     "metadata": {},
     "output_type": "execute_result"
    }
   ],
   "source": [
    "i = np.identity((3))\n",
    "i"
   ]
  },
  {
   "cell_type": "markdown",
   "id": "0929f5e7",
   "metadata": {},
   "source": [
    "# ONES"
   ]
  },
  {
   "cell_type": "code",
   "execution_count": 81,
   "id": "be872aa4",
   "metadata": {},
   "outputs": [
    {
     "data": {
      "text/plain": [
       "array([[1., 1., 1.],\n",
       "       [1., 1., 1.],\n",
       "       [1., 1., 1.]])"
      ]
     },
     "execution_count": 81,
     "metadata": {},
     "output_type": "execute_result"
    }
   ],
   "source": [
    "o = np.ones((3,3))\n",
    "o"
   ]
  },
  {
   "cell_type": "markdown",
   "id": "f51a68f6",
   "metadata": {},
   "source": [
    "# AXIS"
   ]
  },
  {
   "cell_type": "code",
   "execution_count": 87,
   "id": "9a3f5d2b",
   "metadata": {},
   "outputs": [
    {
     "name": "stdout",
     "output_type": "stream",
     "text": [
      "[5 7 9]\n",
      "[ 6 15]\n",
      "2\n"
     ]
    }
   ],
   "source": [
    "import numpy as np\n",
    "a = np.array([[1,2,3],[4,5,6]])\n",
    "print(a.sum(axis=0))\n",
    "print(a.sum(axis=1))\n",
    "print(a.ndim)"
   ]
  },
  {
   "cell_type": "code",
   "execution_count": 88,
   "id": "5f1d0026",
   "metadata": {},
   "outputs": [
    {
     "name": "stdout",
     "output_type": "stream",
     "text": [
      "[[[[[[[[[[1 2 3]\n",
      "         [7 8 9]]]]]]]]]]\n",
      "10\n"
     ]
    }
   ],
   "source": [
    "a = np.array([[1,2,3],[7,8,9]],ndmin=10)\n",
    "print(a)\n",
    "print(a.ndim)\n"
   ]
  },
  {
   "cell_type": "code",
   "execution_count": 117,
   "id": "5c24d529",
   "metadata": {},
   "outputs": [
    {
     "name": "stdout",
     "output_type": "stream",
     "text": [
      "5\n",
      "6\n",
      "int32\n",
      "24\n",
      "5\n",
      "0\n",
      "[[0 1 2]\n",
      " [0 1 2]]\n"
     ]
    }
   ],
   "source": [
    "a = np.array([[1,2,3],[4,5,6]])\n",
    "print(a[1,1])\n",
    "print(a[1][2])\n",
    "print(a.dtype)\n",
    "print(a.nbytes)\n",
    "print(a.argmax())\n",
    "print(a.argmin())\n",
    "print(a.argsort())"
   ]
  },
  {
   "cell_type": "markdown",
   "id": "168a19a8",
   "metadata": {},
   "source": [
    "# prove that array is storage efficient then list"
   ]
  },
  {
   "cell_type": "code",
   "execution_count": 96,
   "id": "f6f68298",
   "metadata": {},
   "outputs": [
    {
     "name": "stdout",
     "output_type": "stream",
     "text": [
      "168\n",
      "28\n"
     ]
    }
   ],
   "source": [
    "import sys\n",
    "import numpy as np\n",
    "python_array = [1,2,3,4,5,6]\n",
    "numpy_array = np.array([python_array])\n",
    "print(sys.getsizeof(1)*len(python_array))\n",
    "print(sys.getsizeof(1)*len(numpy_array))"
   ]
  },
  {
   "cell_type": "code",
   "execution_count": 115,
   "id": "305fe68f",
   "metadata": {},
   "outputs": [
    {
     "name": "stdout",
     "output_type": "stream",
     "text": [
      "[[[1 2]\n",
      "  [3 4]\n",
      "  [5 6]]]\n",
      "5\n",
      "0\n",
      "[[[0 1]\n",
      "  [0 1]\n",
      "  [0 1]]]\n",
      "[[1 2]\n",
      " [3 4]\n",
      " [5 6]]\n",
      "<class 'numpy.ndarray'>\n",
      "3\n"
     ]
    }
   ],
   "source": [
    "import numpy as np\n",
    "a = np.array([[[1,2],[3,4],[5,6]]])\n",
    "print(a)\n",
    "print(a.argmax())\n",
    "print(a.argmin())\n",
    "print(a.argsort())\n",
    "print(a.sum(axis=0))\n",
    "print(type(a))\n",
    "print(a.ndim)"
   ]
  },
  {
   "cell_type": "code",
   "execution_count": 114,
   "id": "323e764d",
   "metadata": {},
   "outputs": [
    {
     "name": "stdout",
     "output_type": "stream",
     "text": [
      "1.23.5\n"
     ]
    }
   ],
   "source": [
    "print(np.__version__)"
   ]
  },
  {
   "cell_type": "markdown",
   "id": "1c23e8a1",
   "metadata": {},
   "source": [
    "# ADDITION"
   ]
  },
  {
   "cell_type": "code",
   "execution_count": 120,
   "id": "2b606112",
   "metadata": {},
   "outputs": [
    {
     "name": "stdout",
     "output_type": "stream",
     "text": [
      "[[1 2 3]\n",
      " [4 5 6]]\n",
      "[[7 8 9]\n",
      " [3 4 5]]\n",
      "[[ 8 10 12]\n",
      " [ 7  9 11]]\n"
     ]
    }
   ],
   "source": [
    "a1 = np.array([[1,2,3],[4,5,6]])\n",
    "a2 = np.array([[7,8,9],[3,4,5]])\n",
    "print(a1)\n",
    "print(a2)\n",
    "print(a1+a2)"
   ]
  },
  {
   "cell_type": "markdown",
   "id": "b3770e54",
   "metadata": {},
   "source": [
    "# MULTIPLICATION"
   ]
  },
  {
   "cell_type": "code",
   "execution_count": 122,
   "id": "5340cd15",
   "metadata": {},
   "outputs": [
    {
     "name": "stdout",
     "output_type": "stream",
     "text": [
      "[[ 1  4]\n",
      " [ 9 16]\n",
      " [25 36]]\n"
     ]
    }
   ],
   "source": [
    "a1 = np.array([[1,2],[3,4],[5,6]])\n",
    "a2 = np.array([[1,2],[3,4],[5,6]])\n",
    "print(a1*a2)"
   ]
  },
  {
   "cell_type": "markdown",
   "id": "28005a7e",
   "metadata": {},
   "source": [
    "# SQRT"
   ]
  },
  {
   "cell_type": "code",
   "execution_count": 127,
   "id": "04680abf",
   "metadata": {},
   "outputs": [
    {
     "name": "stdout",
     "output_type": "stream",
     "text": [
      "[2. 4. 7.]\n"
     ]
    }
   ],
   "source": [
    "s = np.array([4,16,49])\n",
    "print(np.sqrt(s))"
   ]
  },
  {
   "cell_type": "markdown",
   "id": "d109b3b5",
   "metadata": {},
   "source": [
    "# SUM"
   ]
  },
  {
   "cell_type": "code",
   "execution_count": 134,
   "id": "ecc722e5",
   "metadata": {},
   "outputs": [
    {
     "name": "stdout",
     "output_type": "stream",
     "text": [
      "15\n",
      "15\n",
      "5\n",
      "1\n"
     ]
    }
   ],
   "source": [
    "s = np.array([1,2,3,4,5])\n",
    "print(s.sum())\n",
    "print(np.sum(s))\n",
    "print(np.max(s))\n",
    "print(np.min(s))"
   ]
  },
  {
   "cell_type": "markdown",
   "id": "4b23c123",
   "metadata": {},
   "source": [
    "# NON ZERO"
   ]
  },
  {
   "cell_type": "code",
   "execution_count": 138,
   "id": "4cae6fb3",
   "metadata": {},
   "outputs": [
    {
     "name": "stdout",
     "output_type": "stream",
     "text": [
      "(array([0, 0, 0, 1, 1, 1, 2, 2], dtype=int64), array([0, 1, 2, 0, 1, 2, 0, 1], dtype=int64))\n"
     ]
    }
   ],
   "source": [
    "n = np.array([[1,2,3],[4,5,6],[7,8,0]])\n",
    "print(np.nonzero(n))"
   ]
  },
  {
   "cell_type": "markdown",
   "id": "7bcd54fe",
   "metadata": {},
   "source": [
    "# CONCATENATE"
   ]
  },
  {
   "cell_type": "code",
   "execution_count": 144,
   "id": "c2f1f610",
   "metadata": {},
   "outputs": [
    {
     "name": "stdout",
     "output_type": "stream",
     "text": [
      "[1 2 3 4 5 6]\n",
      "\n",
      "\n",
      "[1 2 3 4 5 6]\n"
     ]
    }
   ],
   "source": [
    "a1 = np.array([1,2,3])\n",
    "a2 = np.array([4,5,6])\n",
    "print(np.concatenate((a1,a2)))\n",
    "print('\\n')\n",
    "print(np.concatenate((a1,a2),axis=0))"
   ]
  },
  {
   "cell_type": "code",
   "execution_count": 149,
   "id": "d3778839",
   "metadata": {},
   "outputs": [
    {
     "name": "stdout",
     "output_type": "stream",
     "text": [
      "[[[1 2 3]\n",
      "  [4 5 6]]\n",
      "\n",
      " [[7 8 9]\n",
      "  [1 2 3]]]\n",
      "\r\n",
      "[[[1 2 3]\n",
      "  [4 5 6]\n",
      "  [7 8 9]\n",
      "  [1 2 3]]]\n"
     ]
    }
   ],
   "source": [
    "arr1 = np.array([[[1,2,3],[4,5,6]]])  \n",
    "arr2 = np.array([[[7,8,9],[1,2,3]]])\n",
    "print(np.concatenate((arr1,arr2),axis=0))\n",
    "print('\\r')\n",
    "print(np.concatenate((arr1,arr2),axis=1))"
   ]
  },
  {
   "cell_type": "markdown",
   "id": "9ced177d",
   "metadata": {},
   "source": [
    "# SLICING"
   ]
  },
  {
   "cell_type": "code",
   "execution_count": 152,
   "id": "122ad468",
   "metadata": {},
   "outputs": [
    {
     "name": "stdout",
     "output_type": "stream",
     "text": [
      "[2 4 6 8]\n",
      "[2]\n",
      "[4 6 8]\n"
     ]
    }
   ],
   "source": [
    "s = np.array([2,4,6,8])\n",
    "print(s[:])\n",
    "print(s[:1])\n",
    "print(s[1:])"
   ]
  },
  {
   "cell_type": "code",
   "execution_count": 163,
   "id": "60adad55",
   "metadata": {},
   "outputs": [
    {
     "name": "stdout",
     "output_type": "stream",
     "text": [
      "[1 2 3 4 5 6 7 8 9]\n",
      "[2 3 4 5]\n",
      "[2 4]\n",
      "[2 5 8]\n",
      "[1 3 5 7 9]\n",
      "[1 4 7]\n"
     ]
    }
   ],
   "source": [
    "i = np.array([1,2,3,4,5,6,7,8,9])\n",
    "print(i[:])\n",
    "print(i[1:5])\n",
    "print(i[1:5:2])\n",
    "print(i[1:9:3])\n",
    "print(i[::2])\n",
    "print(i[::3])"
   ]
  },
  {
   "cell_type": "markdown",
   "id": "9c1ff6e3",
   "metadata": {},
   "source": [
    "# STACKING"
   ]
  },
  {
   "cell_type": "code",
   "execution_count": 170,
   "id": "822d89cd",
   "metadata": {},
   "outputs": [
    {
     "name": "stdout",
     "output_type": "stream",
     "text": [
      "[[1 2 3 4]\n",
      " [5 6 7 8]]\n",
      "\n",
      "\n",
      "[1 2 3 4 5 6 7 8]\n",
      "\n",
      "\n",
      "[[1 2 3 4]\n",
      " [5 6 7 8]]\n",
      "\n",
      "\n",
      "[[[1 5]\n",
      "  [2 6]\n",
      "  [3 7]\n",
      "  [4 8]]]\n",
      "\n",
      "\n",
      "[[1 5]\n",
      " [2 6]\n",
      " [3 7]\n",
      " [4 8]]\n",
      "\n",
      "\n",
      "[[1 2 3 4]\n",
      " [5 6 7 8]]\n"
     ]
    }
   ],
   "source": [
    "a1 = np.array([1,2,3,4])\n",
    "a2 = np.array([5,6,7,8])\n",
    "print(np.stack((a1,a2)))\n",
    "print('\\n')\n",
    "print(np.hstack((a1,a2)))\n",
    "print('\\n')\n",
    "print(np.vstack((a1,a2)))\n",
    "print('\\n')\n",
    "print(np.dstack((a1,a2)))\n",
    "print('\\n')\n",
    "print(np.stack((a1,a2),axis=1))\n",
    "print('\\n')\n",
    "print(np.stack((a1,a2),axis=0))"
   ]
  },
  {
   "cell_type": "markdown",
   "id": "0b753d09",
   "metadata": {},
   "source": [
    "# SPLITING"
   ]
  },
  {
   "cell_type": "code",
   "execution_count": 172,
   "id": "22f5a3ca",
   "metadata": {},
   "outputs": [
    {
     "name": "stdout",
     "output_type": "stream",
     "text": [
      "[array([1, 2, 3]), array([4, 5])]\n"
     ]
    }
   ],
   "source": [
    "a = np.array([1,2,3,4,5])\n",
    "print(np.array_split(a,2))"
   ]
  },
  {
   "cell_type": "code",
   "execution_count": 182,
   "id": "71849421",
   "metadata": {},
   "outputs": [
    {
     "name": "stdout",
     "output_type": "stream",
     "text": [
      "[array([1, 2, 3]), array([4, 5, 6]), array([7, 8])]\n"
     ]
    }
   ],
   "source": [
    "a1 = np.array([1,2,3,4,5,6,7,8])\n",
    "print(np.array_split(a1,3))"
   ]
  },
  {
   "cell_type": "code",
   "execution_count": 185,
   "id": "7dab60d6",
   "metadata": {},
   "outputs": [
    {
     "name": "stdout",
     "output_type": "stream",
     "text": [
      "[array([1, 2]), array([3, 4])]\n"
     ]
    }
   ],
   "source": [
    "a = np.array([1,2,3,4])\n",
    "print(np.hsplit(a,2))"
   ]
  },
  {
   "cell_type": "code",
   "execution_count": null,
   "id": "1607b6a7",
   "metadata": {},
   "outputs": [],
   "source": []
  }
 ],
 "metadata": {
  "kernelspec": {
   "display_name": "Python 3 (ipykernel)",
   "language": "python",
   "name": "python3"
  },
  "language_info": {
   "codemirror_mode": {
    "name": "ipython",
    "version": 3
   },
   "file_extension": ".py",
   "mimetype": "text/x-python",
   "name": "python",
   "nbconvert_exporter": "python",
   "pygments_lexer": "ipython3",
   "version": "3.10.9"
  }
 },
 "nbformat": 4,
 "nbformat_minor": 5
}
