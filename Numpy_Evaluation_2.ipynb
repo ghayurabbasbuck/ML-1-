{
 "cells": [
  {
   "cell_type": "markdown",
   "id": "7ec98f23",
   "metadata": {},
   "source": [
    "### Questions 1\n",
    "\n",
    "Create a matrix of 5x5 with random integers, after that swap its first and last rows."
   ]
  },
  {
   "cell_type": "code",
   "execution_count": 166,
   "id": "fbab7daa",
   "metadata": {},
   "outputs": [
    {
     "name": "stdout",
     "output_type": "stream",
     "text": [
      "[[0.44649333 0.32086335 0.18685116 0.56710414 0.163158  ]\n",
      " [0.11690111 0.31192596 0.19025832 0.0304228  0.78435264]\n",
      " [0.89143812 0.56500405 0.58181388 0.64085745 0.7364315 ]\n",
      " [0.75123283 0.26706984 0.31155932 0.62404874 0.73682773]\n",
      " [0.936397   0.78519436 0.22767426 0.98547841 0.64447794]]\n",
      "\r\n",
      "[[0.936397   0.78519436 0.22767426 0.98547841 0.64447794]\n",
      " [0.11690111 0.31192596 0.19025832 0.0304228  0.78435264]\n",
      " [0.89143812 0.56500405 0.58181388 0.64085745 0.7364315 ]\n",
      " [0.75123283 0.26706984 0.31155932 0.62404874 0.73682773]\n",
      " [0.44649333 0.32086335 0.18685116 0.56710414 0.163158  ]]\n"
     ]
    }
   ],
   "source": [
    "matrix = np.random.rand(5,5)\n",
    "print(matrix)\n",
    "print('\\r')\n",
    "matrix[[0,4]] = matrix[[4,0]]\n",
    "print(matrix)"
   ]
  },
  {
   "cell_type": "markdown",
   "id": "804d6649",
   "metadata": {},
   "source": [
    "### Question 2\n",
    "\n",
    "Create a 2D array, remove all rows that contain at least one zero."
   ]
  },
  {
   "cell_type": "code",
   "execution_count": 104,
   "id": "51a4fc03",
   "metadata": {},
   "outputs": [
    {
     "name": "stdout",
     "output_type": "stream",
     "text": [
      "[[1 2 3 4]\n",
      " [5 6 0 7]]\n",
      "(array([0, 0, 0, 0, 1, 1, 1], dtype=int64), array([0, 1, 2, 3, 0, 1, 3], dtype=int64))\n"
     ]
    }
   ],
   "source": [
    "a = np.array([[1,2,3,4],[5,6,0,7]])\n",
    "print(a)\n",
    "print(a.nonzero())"
   ]
  },
  {
   "cell_type": "code",
   "execution_count": 124,
   "id": "26e7b7e4",
   "metadata": {},
   "outputs": [
    {
     "name": "stdout",
     "output_type": "stream",
     "text": [
      "[1 2 3 4 5 6 0 7]\n",
      "[1, 2, 3, 4, 5, 6, 7]\n"
     ]
    }
   ],
   "source": [
    "a = np.array([[1,2,3,4],[5,6,0,7]])\n",
    "f = a.flatten()\n",
    "print(f)\n",
    "l = []\n",
    "for i in f:\n",
    "    if i == 0:\n",
    "        continue\n",
    "    else:\n",
    "        l.append(i)\n",
    "print(l)\n",
    "        "
   ]
  },
  {
   "cell_type": "code",
   "execution_count": 194,
   "id": "67e12976",
   "metadata": {},
   "outputs": [
    {
     "name": "stdout",
     "output_type": "stream",
     "text": [
      "[[1 2 3 4]\n",
      " [5 6 0 7]]\n"
     ]
    }
   ],
   "source": [
    "a = np.array([[1,2,3,4],[5,6,0,7]])\n",
    "arr_no_zero = a[np.any(a!=0,axis=1)]\n",
    "print(arr_no_zero)"
   ]
  },
  {
   "cell_type": "markdown",
   "id": "2eaedae6",
   "metadata": {},
   "source": [
    "### Question 3\n",
    "\n",
    "Write a NumPy program to find the real and imaginary parts of an array of complex numbers.<br>\n",
    "Original array [ 1.00000000+0.j 0.70710678+0.70710678j]"
   ]
  },
  {
   "cell_type": "code",
   "execution_count": 105,
   "id": "5e2d4526",
   "metadata": {},
   "outputs": [
    {
     "name": "stdout",
     "output_type": "stream",
     "text": [
      "[1.         0.70710678]\n",
      "[0.         0.70710678]\n"
     ]
    }
   ],
   "source": [
    "a = np.array([1.00000000+0.j,0.70710678+0.70710678j])\n",
    "print(np.real(a))  \n",
    "print(np.imag(a))"
   ]
  },
  {
   "cell_type": "code",
   "execution_count": 7,
   "id": "acbe525b",
   "metadata": {},
   "outputs": [
    {
     "name": "stdout",
     "output_type": "stream",
     "text": [
      "[1.         0.70710678]\n",
      "[0. 0.]\n"
     ]
    }
   ],
   "source": [
    "import numpy as np\n",
    "a = np.array([1.00000000+0.j,0.70710678+0.70710678j])\n",
    "real = [n.real for n in a]\n",
    "imag = [n.imag for n in a]\n",
    "print(np.array(real))\n",
    "print(np.imag(imag))"
   ]
  },
  {
   "cell_type": "code",
   "execution_count": null,
   "id": "1629dfad",
   "metadata": {},
   "outputs": [],
   "source": []
  },
  {
   "cell_type": "markdown",
   "id": "5d22a191",
   "metadata": {},
   "source": [
    "### Question 4\n",
    "\n",
    "Write a NumPy program to remove the duplicate elements of an array.<br>\n",
    "Original array:\n",
    "[10 10 20 20 30 30]\n"
   ]
  },
  {
   "cell_type": "code",
   "execution_count": 106,
   "id": "39a6deaf",
   "metadata": {},
   "outputs": [
    {
     "name": "stdout",
     "output_type": "stream",
     "text": [
      "[10 20 30]\n"
     ]
    }
   ],
   "source": [
    "a = np.array([10,10,20,20,30,30])\n",
    "print(np.unique(a))"
   ]
  },
  {
   "cell_type": "code",
   "execution_count": 24,
   "id": "6b169a44",
   "metadata": {},
   "outputs": [
    {
     "name": "stdout",
     "output_type": "stream",
     "text": [
      "[10, 20, 30]\n"
     ]
    }
   ],
   "source": [
    "arr = np.array([10,10,20,20,30,30])\n",
    "b = []\n",
    "for i in range(len(arr)):\n",
    "    for j in range(i+1,len(arr-1)):\n",
    "        if arr[i]==arr[j]:\n",
    "            b.append(arr[j])\n",
    "print(b)\n",
    "    \n",
    "    "
   ]
  },
  {
   "cell_type": "code",
   "execution_count": null,
   "id": "f4326b92",
   "metadata": {},
   "outputs": [],
   "source": []
  },
  {
   "cell_type": "markdown",
   "id": "80f3538a",
   "metadata": {},
   "source": [
    "### Question 5\n",
    "\n",
    "Write a NumPy program to create a 3x3x3 array with random values."
   ]
  },
  {
   "cell_type": "code",
   "execution_count": 10,
   "id": "462e67c5",
   "metadata": {},
   "outputs": [
    {
     "data": {
      "text/plain": [
       "array([[[0.57135525, 0.12411505, 0.47802143],\n",
       "        [0.15697377, 0.57731153, 0.16296459],\n",
       "        [0.19807375, 0.50146167, 0.1396342 ]],\n",
       "\n",
       "       [[0.20079764, 0.14146342, 0.97268517],\n",
       "        [0.94986233, 0.67020664, 0.87025478],\n",
       "        [0.01563609, 0.59954208, 0.70995758]],\n",
       "\n",
       "       [[0.96346382, 0.26871754, 0.56610592],\n",
       "        [0.52871597, 0.26783473, 0.6043245 ],\n",
       "        [0.42068949, 0.54704835, 0.03954263]]])"
      ]
     },
     "execution_count": 10,
     "metadata": {},
     "output_type": "execute_result"
    }
   ],
   "source": [
    "r = np.random.rand(3,3,3)\n",
    "r"
   ]
  },
  {
   "cell_type": "markdown",
   "id": "abd66406",
   "metadata": {},
   "source": [
    "### Question 6\n",
    "\n",
    "Write a NumPy program to create a random vector of size 10 and sort it.\n",
    "<b>Note:<\\b> Do not use builtin sorting function"
   ]
  },
  {
   "cell_type": "code",
   "execution_count": 152,
   "id": "9282c068",
   "metadata": {},
   "outputs": [
    {
     "ename": "SyntaxError",
     "evalue": "invalid syntax (810862825.py, line 4)",
     "output_type": "error",
     "traceback": [
      "\u001b[1;36m  Cell \u001b[1;32mIn[152], line 4\u001b[1;36m\u001b[0m\n\u001b[1;33m    if i>=i++:\u001b[0m\n\u001b[1;37m             ^\u001b[0m\n\u001b[1;31mSyntaxError\u001b[0m\u001b[1;31m:\u001b[0m invalid syntax\n"
     ]
    }
   ],
   "source": [
    "a = np.random.random(10)\n",
    "b = []\n",
    "for i in a:\n",
    "    if i>=i++:\n",
    "        b.append(i)\n",
    "b        "
   ]
  },
  {
   "cell_type": "markdown",
   "id": "e0c1e8bb",
   "metadata": {},
   "source": [
    "### Question 7\n",
    "\n",
    "Write a NumPy program to check two random arrays are equal or not."
   ]
  },
  {
   "cell_type": "code",
   "execution_count": 15,
   "id": "e9c571cc",
   "metadata": {},
   "outputs": [
    {
     "name": "stdout",
     "output_type": "stream",
     "text": [
      "False\n"
     ]
    }
   ],
   "source": [
    "a = np.random.rand(3,3)\n",
    "b = np.random.rand(3,3)\n",
    "print(np.array_equal(a,b))"
   ]
  },
  {
   "cell_type": "code",
   "execution_count": 17,
   "id": "f8e1df7e",
   "metadata": {},
   "outputs": [
    {
     "name": "stdout",
     "output_type": "stream",
     "text": [
      "True\n"
     ]
    }
   ],
   "source": [
    "a =np.array([1,2,3])\n",
    "b = np.array([1,2,3])\n",
    "print(np.array_equal(a,b))"
   ]
  },
  {
   "cell_type": "code",
   "execution_count": 157,
   "id": "a13d4ab2",
   "metadata": {},
   "outputs": [],
   "source": [
    "a = np.array([1,2,3])\n",
    "b = np.array([1,2,3])\n",
    "   "
   ]
  },
  {
   "cell_type": "markdown",
   "id": "234405fe",
   "metadata": {},
   "source": [
    "### Question 8 \n",
    "\n",
    "Write a NumPy program to sort a given array of shape 2 along the first axis, last axis and on flattened array.<br>\n",
    "\n",
    "Original array:<br>\n",
    "[[10 40]<br>\n",
    "[30 20]]"
   ]
  },
  {
   "cell_type": "code",
   "execution_count": 162,
   "id": "1b349b99",
   "metadata": {},
   "outputs": [
    {
     "name": "stdout",
     "output_type": "stream",
     "text": [
      "[[10 40]\n",
      " [20 30]]\n",
      "[10 40 30 20]\n"
     ]
    }
   ],
   "source": [
    "a =np.array([[10,40],[30,20]])\n",
    "print(np.sort(a,axis=1))\n",
    "print(a.flatten())"
   ]
  },
  {
   "cell_type": "markdown",
   "id": "2467ff08",
   "metadata": {},
   "source": [
    "### Question 9\n",
    "\n",
    "Write a NumPy program to get the floor, ceiling and truncated values of the elements of a numpy array.<br>\n",
    "\n",
    "Original array:<br>\n",
    "[-1.6 -1.5 -0.3 0.1 1.4 1.8 2. ]"
   ]
  },
  {
   "cell_type": "code",
   "execution_count": 37,
   "id": "8fa2a543",
   "metadata": {},
   "outputs": [
    {
     "name": "stdout",
     "output_type": "stream",
     "text": [
      "[-2. -2. -1.  0.  1.  1.  2.]\n",
      "[-1. -1. -0.  1.  2.  2.  2.]\n",
      "[-1. -1. -0.  0.  1.  1.  2.]\n"
     ]
    }
   ],
   "source": [
    "p = np.array([-1.6,-1.5,-0.3,0.1,1.4,1.8,2. ])\n",
    "print(np.floor(p))\n",
    "print(np.ceil(p))\n",
    "print(np.trunc(p))"
   ]
  },
  {
   "cell_type": "markdown",
   "id": "9434026c",
   "metadata": {},
   "source": [
    "### Questions 10\n",
    "\n",
    "Write a NumPy program to display all the dates for the month of March, 2017"
   ]
  },
  {
   "cell_type": "code",
   "execution_count": 44,
   "id": "67332471",
   "metadata": {},
   "outputs": [
    {
     "name": "stdout",
     "output_type": "stream",
     "text": [
      "     March 2017\n",
      "Mo Tu We Th Fr Sa Su\n",
      "       1  2  3  4  5\n",
      " 6  7  8  9 10 11 12\n",
      "13 14 15 16 17 18 19\n",
      "20 21 22 23 24 25 26\n",
      "27 28 29 30 31\n",
      "\n"
     ]
    }
   ],
   "source": [
    "import calendar\n",
    "yy = 2017\n",
    "mm = 3\n",
    "print(calendar.month(yy,mm))"
   ]
  },
  {
   "cell_type": "markdown",
   "id": "34eb3ebf",
   "metadata": {},
   "source": [
    "### Question 11\n",
    "\n",
    "Write a NumPy program to create 24 python datetime.datetime objects (single object for every hour), and then put it in a numpy array."
   ]
  },
  {
   "cell_type": "code",
   "execution_count": 184,
   "id": "705b235f",
   "metadata": {},
   "outputs": [
    {
     "data": {
      "text/plain": [
       "array([datetime.datetime(2023, 1, 1, 0, 0),\n",
       "       datetime.datetime(2023, 1, 1, 1, 0),\n",
       "       datetime.datetime(2023, 1, 1, 2, 0),\n",
       "       datetime.datetime(2023, 1, 1, 3, 0),\n",
       "       datetime.datetime(2023, 1, 1, 4, 0),\n",
       "       datetime.datetime(2023, 1, 1, 5, 0),\n",
       "       datetime.datetime(2023, 1, 1, 6, 0),\n",
       "       datetime.datetime(2023, 1, 1, 7, 0),\n",
       "       datetime.datetime(2023, 1, 1, 8, 0),\n",
       "       datetime.datetime(2023, 1, 1, 9, 0),\n",
       "       datetime.datetime(2023, 1, 1, 10, 0),\n",
       "       datetime.datetime(2023, 1, 1, 11, 0),\n",
       "       datetime.datetime(2023, 1, 1, 12, 0),\n",
       "       datetime.datetime(2023, 1, 1, 13, 0),\n",
       "       datetime.datetime(2023, 1, 1, 14, 0),\n",
       "       datetime.datetime(2023, 1, 1, 15, 0),\n",
       "       datetime.datetime(2023, 1, 1, 16, 0),\n",
       "       datetime.datetime(2023, 1, 1, 17, 0),\n",
       "       datetime.datetime(2023, 1, 1, 18, 0),\n",
       "       datetime.datetime(2023, 1, 1, 19, 0),\n",
       "       datetime.datetime(2023, 1, 1, 20, 0),\n",
       "       datetime.datetime(2023, 1, 1, 21, 0),\n",
       "       datetime.datetime(2023, 1, 1, 22, 0),\n",
       "       datetime.datetime(2023, 1, 1, 23, 0)], dtype=object)"
      ]
     },
     "execution_count": 184,
     "metadata": {},
     "output_type": "execute_result"
    }
   ],
   "source": [
    "from datetime import datetime, timedelta\n",
    "start_time = datetime(2023,1,1,0,0,0)\n",
    "datetime_object = [start_time+timedelta(hours=i) for i in range(24)]\n",
    "datetime_array = np.array(datetime_object)\n",
    "datetime_array"
   ]
  },
  {
   "cell_type": "markdown",
   "id": "e34c59d5",
   "metadata": {},
   "source": [
    "### Question 12\n",
    "\n",
    "Write a NumPy program to concatenate element-wise two arrays of string.<br>\n",
    "<b>Example <\\b>\n",
    "Array1:<br>\n",
    "['Python' 'PHP']<br>\n",
    "Array2:<br>\n",
    "[' Java' ' C++']<br>\n",
    "new array:<br>\n",
    "['Python Java' 'PHP C++']<br>"
   ]
  },
  {
   "cell_type": "code",
   "execution_count": 95,
   "id": "cd6b480c",
   "metadata": {},
   "outputs": [
    {
     "name": "stdout",
     "output_type": "stream",
     "text": [
      "['Python' 'Java' 'PHP' 'C++']\n"
     ]
    }
   ],
   "source": [
    "a1 = np.array(['Python','PHP'])\n",
    "a2 = np.array(['Java','C++'])\n",
    "f = np.dstack((a1,a2))\n",
    "print(f.flatten())"
   ]
  },
  {
   "cell_type": "code",
   "execution_count": null,
   "id": "385a810d",
   "metadata": {},
   "outputs": [],
   "source": [
    "a1 = np.array(['Python','PHP'])\n",
    "a2 = np.array(['Java','C++'])\n"
   ]
  },
  {
   "cell_type": "code",
   "execution_count": null,
   "id": "307b9311",
   "metadata": {},
   "outputs": [],
   "source": []
  },
  {
   "cell_type": "code",
   "execution_count": 26,
   "id": "885512fd",
   "metadata": {},
   "outputs": [
    {
     "name": "stdout",
     "output_type": "stream",
     "text": [
      "['PythonJava', 'PHPC++']\n"
     ]
    }
   ],
   "source": [
    "import numpy as np\n",
    "\n",
    "def addstring(s1, s2):\n",
    "    a = []\n",
    "    if len(s1) != len(s2):\n",
    "        return False\n",
    "    else:\n",
    "        for i in range(len(s1)):\n",
    "            re = s1[i] + s2[i]\n",
    "            a.append(re)\n",
    "    return a\n",
    "\n",
    "s1 = np.array(['Python', 'PHP'], dtype='str')\n",
    "s2 = np.array(['Java', 'C++'], dtype='str')\n",
    "result = addstring(s1, s2)\n",
    "\n",
    "print(result)\n"
   ]
  },
  {
   "cell_type": "code",
   "execution_count": null,
   "id": "8a245c28",
   "metadata": {},
   "outputs": [],
   "source": []
  }
 ],
 "metadata": {
  "kernelspec": {
   "display_name": "Python 3 (ipykernel)",
   "language": "python",
   "name": "python3"
  },
  "language_info": {
   "codemirror_mode": {
    "name": "ipython",
    "version": 3
   },
   "file_extension": ".py",
   "mimetype": "text/x-python",
   "name": "python",
   "nbconvert_exporter": "python",
   "pygments_lexer": "ipython3",
   "version": "3.10.9"
  }
 },
 "nbformat": 4,
 "nbformat_minor": 5
}
