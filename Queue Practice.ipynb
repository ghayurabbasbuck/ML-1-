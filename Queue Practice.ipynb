{
 "cells": [
  {
   "cell_type": "markdown",
   "id": "f55f2dbe",
   "metadata": {},
   "source": [
    "# Making a Queue"
   ]
  },
  {
   "cell_type": "code",
   "execution_count": 13,
   "id": "474299c3",
   "metadata": {},
   "outputs": [
    {
     "name": "stdout",
     "output_type": "stream",
     "text": [
      "Added 1 to the queue.\n",
      "Added 2 to the queue.\n",
      "Added 3 to the queue.\n",
      "Added 4 to the queue.\n",
      "Added 5 to the queue.\n",
      "Added 6 to the queue.\n",
      "Added 7 to the queue.\n",
      "Added 8 to the queue.\n",
      "Added 9 to the queue.\n",
      "remove 1 from the queue.\n",
      "remove 2 from the queue.\n",
      "remove 3 from the queue.\n",
      "remove 4 from the queue.\n",
      "remove 5 from the queue.\n",
      "remove 6 from the queue.\n",
      "remove 7 from the queue.\n",
      "remove 8 from the queue.\n",
      "remove 9 from the queue.\n"
     ]
    }
   ],
   "source": [
    "max_size = 10\n",
    "queue = []\n",
    "def is_empty():\n",
    "    return len(queue) == 0\n",
    "def is_full():\n",
    "    return len(queue) == max_size\n",
    "def enque(element):\n",
    "    if is_full():\n",
    "        print(\"queue is full cannot add any element\")\n",
    "    else:\n",
    "        queue.append(element)\n",
    "        print(f\"Added {element} to the queue.\")\n",
    "def deque():\n",
    "    if is_empty():\n",
    "        print('queue is empty')\n",
    "    else:\n",
    "        remove_element = queue.pop(0)\n",
    "        print(f\"remove {remove_element} from the queue.\")\n",
    "        return remove_element\n",
    "    \n",
    "for i in range(1,10):\n",
    "    enque(i)\n",
    "for _ in range(1,10):\n",
    "    deque()"
   ]
  },
  {
   "cell_type": "code",
   "execution_count": null,
   "id": "ee676e9f",
   "metadata": {},
   "outputs": [],
   "source": []
  },
  {
   "cell_type": "code",
   "execution_count": null,
   "id": "77f51fdd",
   "metadata": {},
   "outputs": [],
   "source": [
    "\n"
   ]
  },
  {
   "cell_type": "code",
   "execution_count": null,
   "id": "b4751fc0",
   "metadata": {},
   "outputs": [],
   "source": []
  }
 ],
 "metadata": {
  "kernelspec": {
   "display_name": "Python 3 (ipykernel)",
   "language": "python",
   "name": "python3"
  },
  "language_info": {
   "codemirror_mode": {
    "name": "ipython",
    "version": 3
   },
   "file_extension": ".py",
   "mimetype": "text/x-python",
   "name": "python",
   "nbconvert_exporter": "python",
   "pygments_lexer": "ipython3",
   "version": "3.10.9"
  }
 },
 "nbformat": 4,
 "nbformat_minor": 5
}
