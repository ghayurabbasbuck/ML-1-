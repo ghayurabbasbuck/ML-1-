{
 "cells": [
  {
   "cell_type": "markdown",
   "id": "e09cf08b",
   "metadata": {},
   "source": [
    "# Basic Python"
   ]
  },
  {
   "cell_type": "code",
   "execution_count": 3,
   "id": "4c1f61ad",
   "metadata": {},
   "outputs": [
    {
     "name": "stdout",
     "output_type": "stream",
     "text": [
      "1 1\n",
      "1 2\n",
      "1 3\n",
      "2 1\n",
      "2 2\n",
      "2 3\n",
      "3 1\n",
      "3 2\n",
      "3 3\n"
     ]
    }
   ],
   "source": [
    "for i in range(1,4):\n",
    "    for j in range(1,4):\n",
    "        print(i,j)"
   ]
  },
  {
   "cell_type": "code",
   "execution_count": 9,
   "id": "5c3bb5bc",
   "metadata": {},
   "outputs": [
    {
     "name": "stdout",
     "output_type": "stream",
     "text": [
      "apple is red\n",
      "banana is yellow\n",
      "orange is red\n"
     ]
    }
   ],
   "source": [
    "fruit = ['apple','banana','orange']\n",
    "color = ['red','yellow','red']\n",
    "for fruit,color in zip(fruit,color):\n",
    "    print(fruit,'is',color)\n"
   ]
  },
  {
   "cell_type": "code",
   "execution_count": 2,
   "id": "e4e68014",
   "metadata": {},
   "outputs": [
    {
     "name": "stdout",
     "output_type": "stream",
     "text": [
      "ghayur 20\n",
      "qayyume 14\n",
      "hubdar 8\n"
     ]
    }
   ],
   "source": [
    "name = ['ghayur','qayyume','hubdar']\n",
    "age = [20,14,8]\n",
    "for n,a in zip(name,age):\n",
    "    print(n,a)"
   ]
  },
  {
   "cell_type": "code",
   "execution_count": 4,
   "id": "64970e55",
   "metadata": {},
   "outputs": [
    {
     "name": "stdout",
     "output_type": "stream",
     "text": [
      "ghayur 20\n",
      "ghayur 14\n",
      "ghayur 8\n",
      "qayyume 20\n",
      "qayyume 14\n",
      "qayyume 8\n",
      "hubdar 20\n",
      "hubdar 14\n",
      "hubdar 8\n"
     ]
    }
   ],
   "source": [
    "name = ['ghayur','qayyume','hubdar']\n",
    "age = [20,14,8]\n",
    "for n in name:\n",
    "    for a in age:\n",
    "        print(n,a)"
   ]
  },
  {
   "cell_type": "code",
   "execution_count": 1,
   "id": "5d06a252",
   "metadata": {},
   "outputs": [
    {
     "name": "stdout",
     "output_type": "stream",
     "text": [
      "ghayur qayyum\n",
      "abbas khan\n"
     ]
    }
   ],
   "source": [
    "name = 'ghayur abbas'\n",
    "name2 = 'qayyum khan'\n",
    "s1 = name.split()\n",
    "s2 = name2.split()\n",
    "for a,b in zip(s1,s2):\n",
    "    print(a,b)"
   ]
  },
  {
   "cell_type": "code",
   "execution_count": 5,
   "id": "428ff013",
   "metadata": {},
   "outputs": [
    {
     "name": "stdout",
     "output_type": "stream",
     "text": [
      "(1, 2)\n",
      "(3, 4)\n",
      "(5, 6)\n"
     ]
    }
   ],
   "source": [
    "t = ((1,2),(3,4),(5,6))\n",
    "for a in t:\n",
    "    print(a)"
   ]
  },
  {
   "cell_type": "code",
   "execution_count": 22,
   "id": "e22f5338",
   "metadata": {},
   "outputs": [
    {
     "name": "stdout",
     "output_type": "stream",
     "text": [
      "(1, 2) 1\n",
      "(1, 2) 2\n",
      "(3, 4) 3\n",
      "(3, 4) 4\n",
      "(5, 6) 5\n",
      "(5, 6) 6\n"
     ]
    }
   ],
   "source": [
    "t = ((1,2),(3,4),(5,6))\n",
    "for a in t:\n",
    "    for b in a:\n",
    "        print(a,b)"
   ]
  },
  {
   "cell_type": "code",
   "execution_count": 23,
   "id": "e274fff9",
   "metadata": {},
   "outputs": [
    {
     "name": "stdout",
     "output_type": "stream",
     "text": [
      "1\n",
      "2\n",
      "3\n",
      "4\n",
      "5\n",
      "6\n"
     ]
    }
   ],
   "source": [
    "for a in t:\n",
    "    for b in a:\n",
    "        print(b)"
   ]
  },
  {
   "cell_type": "code",
   "execution_count": 50,
   "id": "5b9cf6b5",
   "metadata": {},
   "outputs": [
    {
     "name": "stdout",
     "output_type": "stream",
     "text": [
      "g\n",
      "k\n",
      "f\n",
      "o\n",
      "r\n",
      "g\n",
      "k\n"
     ]
    }
   ],
   "source": [
    "l = 'geeksforgeeks'\n",
    "for i in l:\n",
    "    if i == 'e' or i =='s':\n",
    "        continue\n",
    "    print(i)"
   ]
  },
  {
   "cell_type": "code",
   "execution_count": 58,
   "id": "4dac6c20",
   "metadata": {},
   "outputs": [
    {
     "name": "stdout",
     "output_type": "stream",
     "text": [
      "e\n"
     ]
    }
   ],
   "source": [
    "l = 'geeksforgeeks'\n",
    "for i in l:\n",
    "    if i == 'e' or i == 's':\n",
    "        break\n",
    "    print(letter)"
   ]
  },
  {
   "cell_type": "code",
   "execution_count": 59,
   "id": "7e8b3527",
   "metadata": {},
   "outputs": [
    {
     "name": "stdout",
     "output_type": "stream",
     "text": [
      "s\n"
     ]
    }
   ],
   "source": [
    "l = 'geeksforgeeks'\n",
    "for s in l:\n",
    "    pass\n",
    "print(s)"
   ]
  },
  {
   "cell_type": "code",
   "execution_count": 75,
   "id": "d0a69813",
   "metadata": {},
   "outputs": [
    {
     "name": "stdout",
     "output_type": "stream",
     "text": [
      "Last Letter : k\n"
     ]
    }
   ],
   "source": [
    "for letter in 'geeksforgek':\n",
    "    if letter == 'o':\n",
    "        pass\n",
    "print('Last Letter :', letter)"
   ]
  },
  {
   "cell_type": "code",
   "execution_count": 9,
   "id": "3947cc80",
   "metadata": {},
   "outputs": [
    {
     "data": {
      "text/plain": [
       "45"
      ]
     },
     "execution_count": 9,
     "metadata": {},
     "output_type": "execute_result"
    }
   ],
   "source": [
    "sum = 0\n",
    "for i in range(1,10):\n",
    "    sum = sum+i\n",
    "sum"
   ]
  },
  {
   "cell_type": "code",
   "execution_count": 11,
   "id": "19491172",
   "metadata": {},
   "outputs": [
    {
     "name": "stdout",
     "output_type": "stream",
     "text": [
      "1\n",
      "2\n",
      "3\n",
      "break\n"
     ]
    }
   ],
   "source": [
    "for i in range(1,4):\n",
    "    print(i)\n",
    "else:\n",
    "    print('break')"
   ]
  },
  {
   "cell_type": "code",
   "execution_count": 7,
   "id": "3f13ae13",
   "metadata": {},
   "outputs": [
    {
     "name": "stdout",
     "output_type": "stream",
     "text": [
      "\n",
      "*\n",
      "**\n",
      "***\n",
      "****\n",
      "*****\n"
     ]
    }
   ],
   "source": [
    "i = 0\n",
    "while i<=5:\n",
    "    print(i*'*')\n",
    "    i+=1"
   ]
  },
  {
   "cell_type": "code",
   "execution_count": 1,
   "id": "8ca59266",
   "metadata": {},
   "outputs": [
    {
     "name": "stdout",
     "output_type": "stream",
     "text": [
      "*****\n",
      "****\n",
      "***\n",
      "**\n",
      "*\n",
      "\n"
     ]
    }
   ],
   "source": [
    "i = 5\n",
    "while i>=0:\n",
    "    print(i*'*')\n",
    "    i-=1"
   ]
  },
  {
   "cell_type": "code",
   "execution_count": 3,
   "id": "f6c044e1",
   "metadata": {},
   "outputs": [
    {
     "name": "stdout",
     "output_type": "stream",
     "text": [
      "1\n",
      "3\n",
      "5\n"
     ]
    }
   ],
   "source": [
    "count = 0\n",
    "while count<5:\n",
    "    count = count+1\n",
    "    print(count)\n",
    "    count +=1\n"
   ]
  },
  {
   "cell_type": "code",
   "execution_count": 6,
   "id": "e42ced56",
   "metadata": {},
   "outputs": [
    {
     "name": "stdout",
     "output_type": "stream",
     "text": [
      "ghayur Abbas\n",
      "ghayur Abbas\n",
      "ghayur Abbas\n"
     ]
    }
   ],
   "source": [
    "count = 0\n",
    "while count<3:\n",
    "    count = count+1\n",
    "    print('ghayur Abbas')\n"
   ]
  },
  {
   "cell_type": "code",
   "execution_count": 9,
   "id": "6bcd2ef5",
   "metadata": {},
   "outputs": [
    {
     "name": "stdout",
     "output_type": "stream",
     "text": [
      "5\n",
      "4\n",
      "3\n",
      "2\n",
      "1\n"
     ]
    }
   ],
   "source": [
    "a = [1,2,3,4,5]\n",
    "while a:\n",
    "    print(a.pop())"
   ]
  },
  {
   "cell_type": "code",
   "execution_count": 17,
   "id": "395605fc",
   "metadata": {},
   "outputs": [
    {
     "name": "stdout",
     "output_type": "stream",
     "text": [
      "hi\n",
      "hi\n",
      "hi\n",
      "hi\n",
      "hi\n"
     ]
    }
   ],
   "source": [
    "count = 0\n",
    "while count <5: count+=1; print('hi')"
   ]
  },
  {
   "cell_type": "code",
   "execution_count": 18,
   "id": "f299c6b8",
   "metadata": {},
   "outputs": [
    {
     "name": "stdout",
     "output_type": "stream",
     "text": [
      "g\n",
      "k\n",
      "f\n",
      "o\n",
      "r\n",
      "g\n",
      "k\n"
     ]
    }
   ],
   "source": [
    "a = 'geeksforgeeks'\n",
    "for i in a:\n",
    "    if i == 'e' or i=='s':\n",
    "        continue\n",
    "    print(i)"
   ]
  },
  {
   "cell_type": "code",
   "execution_count": 1,
   "id": "d450931b",
   "metadata": {},
   "outputs": [
    {
     "name": "stdout",
     "output_type": "stream",
     "text": [
      "g\n",
      "k\n",
      "f\n",
      "o\n",
      "r\n",
      "g\n",
      "k\n"
     ]
    }
   ],
   "source": [
    "i = 0\n",
    "a = 'geeksforgeeks'\n",
    "while i < len(a):\n",
    "    if a[i] == 'e' or a[i] == 's':\n",
    "        i = i+1\n",
    "        continue\n",
    "    print(a[i])  \n",
    "    i = i+1\n"
   ]
  },
  {
   "cell_type": "code",
   "execution_count": 2,
   "id": "f7846f43",
   "metadata": {},
   "outputs": [
    {
     "name": "stdout",
     "output_type": "stream",
     "text": [
      "g\n"
     ]
    }
   ],
   "source": [
    "a = 'geeksforgeeks'\n",
    "i = 0\n",
    "while i < len(a):\n",
    "    if a[i] == 's' or a[i] == 'e':\n",
    "        i = i+1\n",
    "        break\n",
    "    print(a[i])\n",
    "    i = i+1\n",
    "              "
   ]
  },
  {
   "cell_type": "code",
   "execution_count": 1,
   "id": "a658b8d1",
   "metadata": {},
   "outputs": [
    {
     "name": "stdout",
     "output_type": "stream",
     "text": [
      "13\n"
     ]
    }
   ],
   "source": [
    "i = 0\n",
    "a = 'geeksforgeeks'\n",
    "while i <len(a):\n",
    "    i+=1\n",
    "    pass\n",
    "print(i)"
   ]
  },
  {
   "cell_type": "code",
   "execution_count": 2,
   "id": "608a6584",
   "metadata": {},
   "outputs": [
    {
     "name": "stdout",
     "output_type": "stream",
     "text": [
      "Value of i : 13\n"
     ]
    }
   ],
   "source": [
    "a = 'geeksforgeeks'\n",
    "i = 0\n",
    "while i < len(a):\n",
    "    i += 1\n",
    "    pass\n",
    " \n",
    "print('Value of i :', i)"
   ]
  },
  {
   "cell_type": "code",
   "execution_count": 11,
   "id": "d8fb31f7",
   "metadata": {},
   "outputs": [
    {
     "name": "stdout",
     "output_type": "stream",
     "text": [
      "1\n",
      "2\n",
      "3\n",
      "4\n",
      "\n",
      "break\n"
     ]
    }
   ],
   "source": [
    "i = 0\n",
    "while i < 4:\n",
    "    i+=1\n",
    "    print(i)\n",
    "else:\n",
    "    print('\\nbreak')"
   ]
  },
  {
   "cell_type": "code",
   "execution_count": 12,
   "id": "22b80804",
   "metadata": {},
   "outputs": [
    {
     "name": "stdout",
     "output_type": "stream",
     "text": [
      "1\n"
     ]
    }
   ],
   "source": [
    "i = 0\n",
    "while i < 4:\n",
    "    i+=1\n",
    "    print(i)\n",
    "    break\n",
    "else:\n",
    "    print('no break')\n",
    "    "
   ]
  },
  {
   "cell_type": "code",
   "execution_count": 9,
   "id": "a0c0f334",
   "metadata": {},
   "outputs": [
    {
     "name": "stdout",
     "output_type": "stream",
     "text": [
      "1\n",
      "2\n",
      "3\n",
      "4\n",
      "No Break\n",
      "\n"
     ]
    }
   ],
   "source": [
    "i = 0\n",
    "while i < 4:\n",
    "    i += 1\n",
    "    print(i)\n",
    "else: # Executed because no break in for\n",
    "    print(\"No Break\\n\")\n"
   ]
  },
  {
   "cell_type": "code",
   "execution_count": 10,
   "id": "7ce7e0b4",
   "metadata": {},
   "outputs": [
    {
     "name": "stdout",
     "output_type": "stream",
     "text": [
      "1\n"
     ]
    }
   ],
   "source": [
    "i = 0\n",
    "while i < 4:\n",
    "    i += 1\n",
    "    print(i)\n",
    "    break\n",
    "else: # Not executed as there is a break\n",
    "    print(\"No Break\")\n"
   ]
  },
  {
   "cell_type": "code",
   "execution_count": 14,
   "id": "572bce2f",
   "metadata": {},
   "outputs": [
    {
     "name": "stdout",
     "output_type": "stream",
     "text": [
      "Enter a number (-1 to quit): 1\n",
      "Enter a number (-1 to quit): 1\n",
      "Enter a number (-1 to quit): -1\n"
     ]
    }
   ],
   "source": [
    "a = int(input('Enter a number (-1 to quit): '))\n",
    "while a != -1:\n",
    "    a = int(input('Enter a number (-1 to quit): '))"
   ]
  },
  {
   "cell_type": "code",
   "execution_count": 6,
   "id": "e3cd7b05",
   "metadata": {},
   "outputs": [
    {
     "name": "stdout",
     "output_type": "stream",
     "text": [
      "enter a 1 to quit: 2\n",
      "enter a 1 to quit: 3\n",
      "enter a 1 to quit: 1\n"
     ]
    }
   ],
   "source": [
    "a = (int(input('enter a 1 to quit: ')))\n",
    "while a != 1:\n",
    "    a = (int(input('enter a 1 to quit: ')))\n"
   ]
  },
  {
   "cell_type": "code",
   "execution_count": 11,
   "id": "c1f81b88",
   "metadata": {},
   "outputs": [
    {
     "name": "stdout",
     "output_type": "stream",
     "text": [
      "0\n",
      "1\n"
     ]
    }
   ],
   "source": [
    "for i in range(10):\n",
    "    if i ==2:\n",
    "        break\n",
    "    print(i)"
   ]
  },
  {
   "cell_type": "code",
   "execution_count": 12,
   "id": "50000fff",
   "metadata": {},
   "outputs": [
    {
     "name": "stdout",
     "output_type": "stream",
     "text": [
      "0\n",
      "1\n",
      "2\n"
     ]
    }
   ],
   "source": [
    "for i in range(10):\n",
    "    print(i)\n",
    "    if i == 2:\n",
    "        break"
   ]
  },
  {
   "cell_type": "code",
   "execution_count": 17,
   "id": "827bc035",
   "metadata": {},
   "outputs": [
    {
     "name": "stdout",
     "output_type": "stream",
     "text": [
      "The num has value: 1\n",
      "The num has value: 2\n",
      "The num has value: 3\n",
      "The num has value: 4\n",
      "The num has value: 5\n",
      "The num has value: 6\n",
      "The num has value: 7\n",
      "Out of loop\n"
     ]
    }
   ],
   "source": [
    "num = 0\n",
    "for i in range(10):\n",
    "    num += 1\n",
    "    if num == 8:\n",
    "        break\n",
    "    print(\"The num has value:\", num)\n",
    "print(\"Out of loop\")\n"
   ]
  },
  {
   "cell_type": "code",
   "execution_count": 20,
   "id": "b36ca8b8",
   "metadata": {},
   "outputs": [
    {
     "name": "stdout",
     "output_type": "stream",
     "text": [
      "the num has value:  1\n",
      "the num has value:  2\n",
      "the num has value:  3\n",
      "the num has value:  4\n",
      "the num has value:  5\n",
      "the num has value:  6\n",
      "the num has value:  7\n",
      "end of loop\n"
     ]
    }
   ],
   "source": [
    "num = 0\n",
    "for i in range(10):\n",
    "    num = num+1\n",
    "    if num == 8:\n",
    "        break\n",
    "    print(\"the num has value: \",num)\n",
    "print('end of loop')"
   ]
  },
  {
   "cell_type": "code",
   "execution_count": 21,
   "id": "49768d80",
   "metadata": {},
   "outputs": [
    {
     "name": "stdout",
     "output_type": "stream",
     "text": [
      "G\n",
      "K\n",
      "S\n",
      "F\n",
      "O\n",
      "R\n",
      "G\n",
      "K\n",
      "S\n"
     ]
    }
   ],
   "source": [
    "for var in 'GEEKSFORGEEKS':\n",
    "    if var == 'E':\n",
    "        continue\n",
    "    print(var)"
   ]
  },
  {
   "cell_type": "code",
   "execution_count": 23,
   "id": "11cbf89c",
   "metadata": {},
   "outputs": [
    {
     "name": "stdout",
     "output_type": "stream",
     "text": [
      "0\n",
      "1\n",
      "2\n",
      "3\n",
      "4\n",
      "5\n",
      "7\n",
      "8\n",
      "9\n"
     ]
    }
   ],
   "source": [
    "for i in range(10):\n",
    "    if i == 6:\n",
    "        continue\n",
    "    else:\n",
    "        print(i)"
   ]
  },
  {
   "cell_type": "code",
   "execution_count": 24,
   "id": "821d2326",
   "metadata": {},
   "outputs": [],
   "source": [
    "# Bubble Sort"
   ]
  },
  {
   "cell_type": "code",
   "execution_count": 49,
   "id": "2bedc78d",
   "metadata": {},
   "outputs": [
    {
     "name": "stdout",
     "output_type": "stream",
     "text": [
      "[34, 64, 25, 12, 22, 11, 90]\n",
      "[34, 25, 64, 12, 22, 11, 90]\n",
      "[34, 25, 12, 64, 22, 11, 90]\n",
      "[34, 25, 12, 22, 64, 11, 90]\n",
      "[34, 25, 12, 22, 11, 64, 90]\n",
      "[34, 25, 12, 22, 11, 64, 90]\n",
      "[25, 34, 12, 22, 11, 64, 90]\n",
      "[25, 12, 34, 22, 11, 64, 90]\n",
      "[25, 12, 22, 34, 11, 64, 90]\n",
      "[25, 12, 22, 11, 34, 64, 90]\n",
      "[25, 12, 22, 11, 34, 64, 90]\n",
      "[12, 25, 22, 11, 34, 64, 90]\n",
      "[12, 22, 25, 11, 34, 64, 90]\n",
      "[12, 22, 11, 25, 34, 64, 90]\n",
      "[12, 22, 11, 25, 34, 64, 90]\n",
      "[12, 22, 11, 25, 34, 64, 90]\n",
      "[12, 11, 22, 25, 34, 64, 90]\n",
      "[12, 11, 22, 25, 34, 64, 90]\n",
      "[11, 12, 22, 25, 34, 64, 90]\n",
      "[11, 12, 22, 25, 34, 64, 90]\n",
      "[11, 12, 22, 25, 34, 64, 90]\n"
     ]
    }
   ],
   "source": [
    "my_list = [64, 34, 25, 12, 22, 11, 90]\n",
    "n = len(my_list)\n",
    "for i in range(n):\n",
    "    for j in range(0, n-i-1):\n",
    "        if my_list[j] > my_list[j+1]:\n",
    "            my_list[j], my_list[j+1] = my_list[j+1], my_list[j]\n",
    "        print(my_list)"
   ]
  },
  {
   "cell_type": "code",
   "execution_count": 51,
   "id": "8aead27b",
   "metadata": {},
   "outputs": [
    {
     "name": "stdout",
     "output_type": "stream",
     "text": [
      "[34 64 25 12 22 11 90]\n",
      "[34 25 64 12 22 11 90]\n",
      "[34 25 12 64 22 11 90]\n",
      "[34 25 12 22 64 11 90]\n",
      "[34 25 12 22 11 64 90]\n",
      "[34 25 12 22 11 64 90]\n",
      "[25 34 12 22 11 64 90]\n",
      "[25 12 34 22 11 64 90]\n",
      "[25 12 22 34 11 64 90]\n",
      "[25 12 22 11 34 64 90]\n",
      "[25 12 22 11 34 64 90]\n",
      "[12 25 22 11 34 64 90]\n",
      "[12 22 25 11 34 64 90]\n",
      "[12 22 11 25 34 64 90]\n",
      "[12 22 11 25 34 64 90]\n",
      "[12 22 11 25 34 64 90]\n",
      "[12 11 22 25 34 64 90]\n",
      "[12 11 22 25 34 64 90]\n",
      "[11 12 22 25 34 64 90]\n",
      "[11 12 22 25 34 64 90]\n",
      "[11 12 22 25 34 64 90]\n"
     ]
    }
   ],
   "source": [
    "import numpy as np\n",
    "my_list = np.array([64, 34, 25, 12, 22, 11, 90])\n",
    "n = len(my_list)\n",
    "for i in range(n):\n",
    "    for j in range(0,n-i-1):\n",
    "        if my_list[j] > my_list[j+1]:\n",
    "            my_list[j],my_list[j+1] = my_list[j+1],my_list[j]\n",
    "        print(my_list)"
   ]
  },
  {
   "cell_type": "code",
   "execution_count": 1,
   "id": "94173cd0",
   "metadata": {},
   "outputs": [
    {
     "name": "stdout",
     "output_type": "stream",
     "text": [
      "1\n",
      "2\n",
      "3\n",
      "4\n",
      "5\n",
      "7\n",
      "8\n",
      "9\n",
      "10\n"
     ]
    }
   ],
   "source": [
    "for i in range(1,11):\n",
    "    if i==6:\n",
    "        continue\n",
    "    print(i)"
   ]
  },
  {
   "cell_type": "code",
   "execution_count": 2,
   "id": "da11cb34",
   "metadata": {},
   "outputs": [
    {
     "name": "stdout",
     "output_type": "stream",
     "text": [
      "1\n",
      "2\n",
      "4\n",
      "5\n",
      "6\n",
      "7\n",
      "8\n",
      "9\n"
     ]
    }
   ],
   "source": [
    "nested_l = [[1,2,3],[4,5,6],[7,8,9]]\n",
    "for i in nested_l:\n",
    "    for j in i:\n",
    "        if j == 3:\n",
    "            continue\n",
    "        print(j)"
   ]
  },
  {
   "cell_type": "code",
   "execution_count": 4,
   "id": "78be9653",
   "metadata": {},
   "outputs": [
    {
     "name": "stdout",
     "output_type": "stream",
     "text": [
      "0\n",
      "1\n",
      "2\n",
      "3\n",
      "4\n",
      "6\n",
      "7\n",
      "8\n",
      "9\n"
     ]
    }
   ],
   "source": [
    "for i in range(0,10):\n",
    "    if i == 5:\n",
    "        continue\n",
    "    print(i)"
   ]
  },
  {
   "cell_type": "code",
   "execution_count": 1,
   "id": "0572bd39",
   "metadata": {},
   "outputs": [
    {
     "name": "stdout",
     "output_type": "stream",
     "text": [
      "0\n",
      "1\n",
      "2\n",
      "3\n",
      "4\n",
      "6\n",
      "7\n",
      "8\n",
      "9\n"
     ]
    }
   ],
   "source": [
    "i = 0\n",
    "while i < len(range(10)):\n",
    "    if i == 5:\n",
    "        i = i+1\n",
    "        continue\n",
    "    print(i)\n",
    "    i+=1"
   ]
  },
  {
   "cell_type": "code",
   "execution_count": 2,
   "id": "6235d281",
   "metadata": {},
   "outputs": [
    {
     "name": "stdout",
     "output_type": "stream",
     "text": [
      "0\n",
      "1\n",
      "2\n",
      "3\n",
      "4\n",
      "6\n",
      "7\n",
      "8\n",
      "9\n"
     ]
    }
   ],
   "source": [
    "i = 0\n",
    "while i < 10:\n",
    "    if i == 5:\n",
    "        i += 1\n",
    "        continue\n",
    "    print(i)\n",
    "    i += 1\n"
   ]
  },
  {
   "cell_type": "code",
   "execution_count": 5,
   "id": "a9aa7fd9",
   "metadata": {},
   "outputs": [
    {
     "name": "stdout",
     "output_type": "stream",
     "text": [
      "0 Big\n",
      "1 Bang\n",
      "2 theorey\n"
     ]
    }
   ],
   "source": [
    "for a,b in enumerate(['Big', 'Bang','theorey']):\n",
    "    print(a,b)"
   ]
  },
  {
   "cell_type": "code",
   "execution_count": 6,
   "id": "e6690323",
   "metadata": {},
   "outputs": [
    {
     "name": "stdout",
     "output_type": "stream",
     "text": [
      "0 The\n",
      "1 Big\n",
      "2 Bang\n",
      "3 Theory\n"
     ]
    }
   ],
   "source": [
    "for key, value in enumerate(['The', 'Big', 'Bang', 'Theory']):\n",
    "    print(key, value)\n"
   ]
  },
  {
   "cell_type": "code",
   "execution_count": 16,
   "id": "153c48af",
   "metadata": {},
   "outputs": [
    {
     "name": "stdout",
     "output_type": "stream",
     "text": [
      "my name is ghayur "
     ]
    }
   ],
   "source": [
    "for b in ['my','name','is','ghayur']:\n",
    "    print(b,end = ' ')"
   ]
  },
  {
   "cell_type": "code",
   "execution_count": 17,
   "id": "6bad0468",
   "metadata": {},
   "outputs": [
    {
     "name": "stdout",
     "output_type": "stream",
     "text": [
      "ghayur 20\n",
      "qayyum 16\n",
      "hubdar 10\n"
     ]
    }
   ],
   "source": [
    "n = ['ghayur','qayyum','hubdar']\n",
    "a = [20, 16,10]\n",
    "for n,a in zip(n,a):\n",
    "    print(n,a)"
   ]
  },
  {
   "cell_type": "code",
   "execution_count": 22,
   "id": "cf2de1d9",
   "metadata": {},
   "outputs": [
    {
     "name": "stdout",
     "output_type": "stream",
     "text": [
      "name apple\n",
      "color red\n",
      "shape a circle\n"
     ]
    }
   ],
   "source": [
    "question = ['name','color','shape']\n",
    "answer = ['apple','red','a circle']\n",
    "for a,b  in zip(question,answer):\n",
    "    print(a,b)"
   ]
  },
  {
   "cell_type": "code",
   "execution_count": 27,
   "id": "0179b02d",
   "metadata": {},
   "outputs": [
    {
     "name": "stdout",
     "output_type": "stream",
     "text": [
      "what is your name, my name is apple\n",
      "what is your color, my color is red\n",
      "what is your shape, my shape is a circle\n"
     ]
    }
   ],
   "source": [
    "question = ['name','color','shape']\n",
    "answer = ['apple','red','a circle']\n",
    "for a,b  in zip(question,answer):\n",
    "    print('what is your {0}, my {0} is {1}'.format(a,b))"
   ]
  },
  {
   "cell_type": "code",
   "execution_count": 30,
   "id": "67a78aee",
   "metadata": {},
   "outputs": [
    {
     "name": "stdout",
     "output_type": "stream",
     "text": [
      "name ghayur\n",
      "age 20\n",
      "class bscs\n"
     ]
    }
   ],
   "source": [
    "d = {'name':'ghayur', 'age':20, 'class':'bscs'}\n",
    "for key,value in d.items():\n",
    "    print(key,value)"
   ]
  },
  {
   "cell_type": "code",
   "execution_count": 32,
   "id": "32f654fe",
   "metadata": {},
   "outputs": [
    {
     "name": "stdout",
     "output_type": "stream",
     "text": [
      "name\n",
      "age\n",
      "class\n"
     ]
    }
   ],
   "source": [
    "d = {'name':'ghayur', 'age':20, 'class':'bscs'}\n",
    "for key in d.keys():\n",
    "    print(key)"
   ]
  },
  {
   "cell_type": "code",
   "execution_count": 33,
   "id": "a5c425e6",
   "metadata": {},
   "outputs": [
    {
     "name": "stdout",
     "output_type": "stream",
     "text": [
      "ghayur\n",
      "20\n",
      "bscs\n"
     ]
    }
   ],
   "source": [
    "d = {'name':'ghayur', 'age':20, 'class':'bscs'}\n",
    "for value in d.values():\n",
    "    print(value)"
   ]
  },
  {
   "cell_type": "code",
   "execution_count": 6,
   "id": "0601f817",
   "metadata": {},
   "outputs": [
    {
     "name": "stdout",
     "output_type": "stream",
     "text": [
      "None\n"
     ]
    }
   ],
   "source": [
    "lis = [1, 3, 5, 6, 2, 1, 3]\n",
    "l = (lis.sort())\n",
    "print(l)\n",
    "l"
   ]
  },
  {
   "cell_type": "code",
   "execution_count": 10,
   "id": "e64bd4bb",
   "metadata": {},
   "outputs": [
    {
     "name": "stdout",
     "output_type": "stream",
     "text": [
      "1 1 2 3 3 5 6 "
     ]
    }
   ],
   "source": [
    "lis = [1, 3, 5, 6, 2, 1, 3]\n",
    "for i in sorted(lis):\n",
    "    print(i,end = ' ')"
   ]
  },
  {
   "cell_type": "code",
   "execution_count": 8,
   "id": "d72de53c",
   "metadata": {},
   "outputs": [
    {
     "name": "stdout",
     "output_type": "stream",
     "text": [
      "[1, 3, 5, 6, 2, 1, 3]\n",
      "[1, 3, 5, 6, 2, 1, 3]\n",
      "[1, 3, 5, 6, 2, 1, 3]\n",
      "[1, 3, 5, 2, 6, 1, 3]\n",
      "[1, 3, 5, 2, 1, 6, 3]\n",
      "[1, 3, 5, 2, 1, 3, 6]\n",
      "[1, 3, 5, 2, 1, 3, 6]\n",
      "[1, 3, 5, 2, 1, 3, 6]\n",
      "[1, 3, 2, 5, 1, 3, 6]\n",
      "[1, 3, 2, 1, 5, 3, 6]\n",
      "[1, 3, 2, 1, 3, 5, 6]\n",
      "[1, 3, 2, 1, 3, 5, 6]\n",
      "[1, 2, 3, 1, 3, 5, 6]\n",
      "[1, 2, 1, 3, 3, 5, 6]\n",
      "[1, 2, 1, 3, 3, 5, 6]\n",
      "[1, 2, 1, 3, 3, 5, 6]\n",
      "[1, 1, 2, 3, 3, 5, 6]\n",
      "[1, 1, 2, 3, 3, 5, 6]\n",
      "[1, 1, 2, 3, 3, 5, 6]\n",
      "[1, 1, 2, 3, 3, 5, 6]\n",
      "[1, 1, 2, 3, 3, 5, 6]\n"
     ]
    }
   ],
   "source": [
    "lis = [1, 3, 5, 6, 2, 1, 3]\n",
    "n = len(lis)\n",
    "for i in range(n):\n",
    "    for j in range(0,n-i-1):\n",
    "        if lis[j] > lis[j+1]:\n",
    "            lis[j],lis[j+1] = lis[j+1],lis[j]\n",
    "        print(lis)"
   ]
  },
  {
   "cell_type": "code",
   "execution_count": 10,
   "id": "4efe77db",
   "metadata": {},
   "outputs": [
    {
     "name": "stdout",
     "output_type": "stream",
     "text": [
      "1 2 3 5 6 "
     ]
    }
   ],
   "source": [
    "lis = [1, 3, 5, 6, 2, 1, 3]\n",
    "for i in sorted(set(lis)):\n",
    "    print(i,end=' ')"
   ]
  },
  {
   "cell_type": "code",
   "execution_count": 18,
   "id": "35688408",
   "metadata": {},
   "outputs": [
    {
     "name": "stdout",
     "output_type": "stream",
     "text": [
      "3 1 2 6 5 3 1 "
     ]
    }
   ],
   "source": [
    "lis = [1, 3, 5, 6, 2, 1, 3]\n",
    "for j in reversed(lis):\n",
    "    print(j,end = ' ')"
   ]
  },
  {
   "cell_type": "markdown",
   "id": "a0b48757",
   "metadata": {},
   "source": [
    "# how to find occurance of number"
   ]
  },
  {
   "cell_type": "code",
   "execution_count": 1,
   "id": "0c4ae35e",
   "metadata": {},
   "outputs": [
    {
     "data": {
      "text/plain": [
       "5"
      ]
     },
     "execution_count": 1,
     "metadata": {},
     "output_type": "execute_result"
    }
   ],
   "source": [
    "def check_acc(lst, tar):\n",
    "    count =  0\n",
    "    for i in lst:\n",
    "        if i == tar:\n",
    "            count = count+1\n",
    "    return count\n",
    "lst = [1,2,3,4,5,6,7,5,5,5,5]\n",
    "tar = 5\n",
    "check_acc(lst,tar)"
   ]
  },
  {
   "cell_type": "code",
   "execution_count": 2,
   "id": "1443bc16",
   "metadata": {},
   "outputs": [
    {
     "name": "stdout",
     "output_type": "stream",
     "text": [
      "3\n"
     ]
    }
   ],
   "source": [
    "a = [1,22,33,4,22,3,4,4,22,3]\n",
    "count = 0\n",
    "for i in a:\n",
    "    if i == 22:\n",
    "        count+=1\n",
    "    else: \n",
    "        pass\n",
    "print(count)"
   ]
  },
  {
   "cell_type": "code",
   "execution_count": 6,
   "id": "b91f837b",
   "metadata": {},
   "outputs": [
    {
     "name": "stdout",
     "output_type": "stream",
     "text": [
      "9\n",
      "5\n",
      "1\n"
     ]
    }
   ],
   "source": [
    "for i in reversed(range(1,10,4)):\n",
    "    print(i)"
   ]
  },
  {
   "cell_type": "code",
   "execution_count": 1,
   "id": "e3abb841",
   "metadata": {},
   "outputs": [
    {
     "name": "stdout",
     "output_type": "stream",
     "text": [
      "count is 3\n"
     ]
    }
   ],
   "source": [
    "count =  0\n",
    "while count < 5:\n",
    "    if count == 3:\n",
    "        print('count is 3')\n",
    "    count+=1"
   ]
  },
  {
   "cell_type": "code",
   "execution_count": 3,
   "id": "ea9d9ed2",
   "metadata": {},
   "outputs": [
    {
     "name": "stdout",
     "output_type": "stream",
     "text": [
      "welcomt to GFG\n"
     ]
    }
   ],
   "source": [
    "def fun():\n",
    "    print(\"welcomt to GFG\")\n",
    "fun()"
   ]
  },
  {
   "cell_type": "code",
   "execution_count": 9,
   "id": "b6e7467f",
   "metadata": {},
   "outputs": [
    {
     "name": "stdout",
     "output_type": "stream",
     "text": [
      "the addition of 5 and 10 is 15\n"
     ]
    }
   ],
   "source": [
    "def add(num1:int,num2:int) -> int:\n",
    "    \"\"\"Add Two Numbe\"\"\"\n",
    "    sum = num1+num2\n",
    "    return sum\n",
    "num1,num2 = 5,10\n",
    "result = add(num1,num2)\n",
    "print(f\"the addition of {num1} and {num2} is {result}\")"
   ]
  },
  {
   "cell_type": "code",
   "execution_count": 12,
   "id": "bf8e8bd3",
   "metadata": {},
   "outputs": [
    {
     "name": "stdout",
     "output_type": "stream",
     "text": [
      "Even\n"
     ]
    }
   ],
   "source": [
    "def fun(x):\n",
    "    if x%2== 0:\n",
    "        print(\"Even\")\n",
    "    else:\n",
    "        print(\"Odd\")\n",
    "fun(10)"
   ]
  },
  {
   "cell_type": "code",
   "execution_count": 13,
   "id": "2d3202c9",
   "metadata": {},
   "outputs": [
    {
     "name": "stdout",
     "output_type": "stream",
     "text": [
      "15\n",
      "10\n"
     ]
    }
   ],
   "source": [
    "def fun(x,y = 10):\n",
    "        print(x)\n",
    "        print(y)\n",
    "fun(15)"
   ]
  },
  {
   "cell_type": "code",
   "execution_count": 16,
   "id": "2c3ce09c",
   "metadata": {},
   "outputs": [
    {
     "name": "stdout",
     "output_type": "stream",
     "text": [
      "ghayur abbas\n",
      "ghayur abbas\n"
     ]
    }
   ],
   "source": [
    "def student(f_name,l_name):\n",
    "    print(f_name,l_name)\n",
    "student(f_name = \"ghayur\",l_name=\"abbas\")\n",
    "student(l_name=\"abbas\",f_name = \"ghayur\")"
   ]
  },
  {
   "cell_type": "code",
   "execution_count": 24,
   "id": "fa4aad24",
   "metadata": {},
   "outputs": [
    {
     "name": "stdout",
     "output_type": "stream",
     "text": [
      "Even\n"
     ]
    }
   ],
   "source": [
    "def evenodd(x):\n",
    "    if (x%2 == 0):\n",
    "        print(\"Even\")\n",
    "    else:\n",
    "        print(\"odd\")\n",
    "evenodd(150)"
   ]
  },
  {
   "cell_type": "code",
   "execution_count": 25,
   "id": "a852b366",
   "metadata": {},
   "outputs": [
    {
     "name": "stdout",
     "output_type": "stream",
     "text": [
      "i love pakistan\n"
     ]
    }
   ],
   "source": [
    "def df1():\n",
    "    s = \"i love pakistan\"\n",
    "    def df2():\n",
    "        print(s)\n",
    "    df2()\n",
    "df1()"
   ]
  },
  {
   "cell_type": "code",
   "execution_count": 26,
   "id": "209dc6f8",
   "metadata": {},
   "outputs": [
    {
     "data": {
      "text/plain": [
       "125"
      ]
     },
     "execution_count": 26,
     "metadata": {},
     "output_type": "execute_result"
    }
   ],
   "source": [
    "def cube(x):\n",
    "    return x*x*x\n",
    "cube(5)"
   ]
  },
  {
   "cell_type": "code",
   "execution_count": 35,
   "id": "48071b21",
   "metadata": {},
   "outputs": [
    {
     "name": "stdout",
     "output_type": "stream",
     "text": [
      "125\n"
     ]
    }
   ],
   "source": [
    "l2 = lambda x = 5: x*x*x\n",
    "print(l2())"
   ]
  },
  {
   "cell_type": "code",
   "execution_count": 36,
   "id": "29ef5599",
   "metadata": {},
   "outputs": [
    {
     "data": {
      "text/plain": [
       "25"
      ]
     },
     "execution_count": 36,
     "metadata": {},
     "output_type": "execute_result"
    }
   ],
   "source": [
    "def seq(num):\n",
    "    return num**2\n",
    "seq(5)"
   ]
  },
  {
   "cell_type": "code",
   "execution_count": 38,
   "id": "c909617c",
   "metadata": {},
   "outputs": [
    {
     "data": {
      "text/plain": [
       "[1, 2, 3, 4]"
      ]
     },
     "execution_count": 38,
     "metadata": {},
     "output_type": "execute_result"
    }
   ],
   "source": [
    "def fun(x):\n",
    "    x = [1,2,3,4]\n",
    "    return x\n",
    "y = [5,6,7,8]\n",
    "fun(y)"
   ]
  },
  {
   "cell_type": "code",
   "execution_count": 41,
   "id": "afb13ab9",
   "metadata": {},
   "outputs": [
    {
     "name": "stdout",
     "output_type": "stream",
     "text": [
      "5\n",
      "7\n"
     ]
    }
   ],
   "source": [
    "def swap(x,y):\n",
    "    temp = x\n",
    "    x = y\n",
    "    y = temp\n",
    "x = 5\n",
    "y = 7\n",
    "swap(x,y)\n",
    "print(x)\n",
    "print(y)"
   ]
  },
  {
   "cell_type": "code",
   "execution_count": 46,
   "id": "47c55694",
   "metadata": {},
   "outputs": [
    {
     "name": "stdout",
     "output_type": "stream",
     "text": [
      "2\n",
      "3\n"
     ]
    }
   ],
   "source": [
    "def swap(x, y):\n",
    " temp = x\n",
    " x = y\n",
    " y = temp\n",
    " return y\n",
    "# Driver code\n",
    "x = 2\n",
    "y = 3\n",
    "swap(x, y)\n",
    "print(x)\n",
    "print(y)\n"
   ]
  },
  {
   "cell_type": "code",
   "execution_count": 53,
   "id": "a5a5a0aa",
   "metadata": {},
   "outputs": [
    {
     "name": "stdout",
     "output_type": "stream",
     "text": [
      "h\n",
      "4\n",
      "h\n"
     ]
    }
   ],
   "source": [
    "n_list = [\"happy\",[1,2,3,4]]\n",
    "print(n_list[0][0])\n",
    "print(n_list[1][3])\n",
    "print(n_list[0][-5])"
   ]
  },
  {
   "cell_type": "code",
   "execution_count": 56,
   "id": "b7288d0c",
   "metadata": {},
   "outputs": [
    {
     "data": {
      "text/plain": [
       "[5, 5, 3, 4]"
      ]
     },
     "execution_count": 56,
     "metadata": {},
     "output_type": "execute_result"
    }
   ],
   "source": [
    "odd = [1,2,3,4]\n",
    "odd[0:2] = [5,5]\n",
    "odd"
   ]
  },
  {
   "cell_type": "code",
   "execution_count": 60,
   "id": "6aa65ac4",
   "metadata": {},
   "outputs": [
    {
     "name": "stdout",
     "output_type": "stream",
     "text": [
      "[5, 5, 3, 4, 7, 7, 7]\n",
      "4\n"
     ]
    }
   ],
   "source": [
    "odd.append(7)\n",
    "print(odd)\n",
    "print(odd.pop(3))"
   ]
  },
  {
   "cell_type": "code",
   "execution_count": 61,
   "id": "ff7dd217",
   "metadata": {},
   "outputs": [
    {
     "name": "stdout",
     "output_type": "stream",
     "text": [
      "[5, 5, 3, 7, 7, 7, 3, 2, 1]\n"
     ]
    }
   ],
   "source": [
    "odd.extend([3,2,1])\n",
    "print(odd)"
   ]
  },
  {
   "cell_type": "code",
   "execution_count": 65,
   "id": "13149481",
   "metadata": {},
   "outputs": [
    {
     "name": "stdout",
     "output_type": "stream",
     "text": [
      "2\n"
     ]
    }
   ],
   "source": [
    "print(odd.pop(7))"
   ]
  },
  {
   "cell_type": "code",
   "execution_count": 66,
   "id": "5ac45395",
   "metadata": {},
   "outputs": [
    {
     "name": "stdout",
     "output_type": "stream",
     "text": [
      "[5, 5, 3, 7, 7, 7, 3, 1]\n"
     ]
    }
   ],
   "source": [
    "print(odd)"
   ]
  },
  {
   "cell_type": "code",
   "execution_count": 68,
   "id": "e7e853a6",
   "metadata": {},
   "outputs": [
    {
     "name": "stdout",
     "output_type": "stream",
     "text": [
      "[5, 5, 3, 7, 7, 7, 3, 1]ghayur\n"
     ]
    }
   ],
   "source": [
    "print(str(odd) + \"ghayur\")"
   ]
  },
  {
   "cell_type": "code",
   "execution_count": 70,
   "id": "6536b070",
   "metadata": {},
   "outputs": [
    {
     "name": "stdout",
     "output_type": "stream",
     "text": [
      "[1, 3, 5, 9, 7, 5]\n"
     ]
    }
   ],
   "source": [
    "odd = [1, 3, 5]\n",
    "print(odd + [9, 7, 5])"
   ]
  },
  {
   "cell_type": "code",
   "execution_count": 71,
   "id": "dd8d7a1e",
   "metadata": {},
   "outputs": [
    {
     "name": "stdout",
     "output_type": "stream",
     "text": [
      "[1, 3, 5, 10, 10]\n"
     ]
    }
   ],
   "source": [
    "print(odd+[10,10])"
   ]
  },
  {
   "cell_type": "code",
   "execution_count": 72,
   "id": "b04a9d40",
   "metadata": {},
   "outputs": [
    {
     "name": "stdout",
     "output_type": "stream",
     "text": [
      "[1, 3, 5]\n"
     ]
    }
   ],
   "source": [
    "print(odd)"
   ]
  },
  {
   "cell_type": "code",
   "execution_count": 75,
   "id": "8b954069",
   "metadata": {},
   "outputs": [
    {
     "name": "stdout",
     "output_type": "stream",
     "text": [
      "['re', 're', 're']\n"
     ]
    }
   ],
   "source": [
    "print([\"re\"]*3)"
   ]
  },
  {
   "cell_type": "code",
   "execution_count": 79,
   "id": "5f1f05d4",
   "metadata": {},
   "outputs": [
    {
     "name": "stdout",
     "output_type": "stream",
     "text": [
      "[2, 4, 6, 2]\n"
     ]
    }
   ],
   "source": [
    "even = [2,4,2]\n",
    "even.insert(2,6)\n",
    "print(even)"
   ]
  },
  {
   "cell_type": "code",
   "execution_count": 80,
   "id": "a34842c7",
   "metadata": {},
   "outputs": [],
   "source": [
    "even[4:4] = [8,10,12]"
   ]
  },
  {
   "cell_type": "code",
   "execution_count": 81,
   "id": "a34e52de",
   "metadata": {},
   "outputs": [
    {
     "data": {
      "text/plain": [
       "[2, 4, 6, 2, 8, 10, 12]"
      ]
     },
     "execution_count": 81,
     "metadata": {},
     "output_type": "execute_result"
    }
   ],
   "source": [
    "even"
   ]
  },
  {
   "cell_type": "code",
   "execution_count": 83,
   "id": "a13b9fc5",
   "metadata": {},
   "outputs": [
    {
     "data": {
      "text/plain": [
       "[2, 4, 8, 10, 12]"
      ]
     },
     "execution_count": 83,
     "metadata": {},
     "output_type": "execute_result"
    }
   ],
   "source": [
    "del even[2]\n",
    "even"
   ]
  },
  {
   "cell_type": "code",
   "execution_count": 86,
   "id": "7634b9b7",
   "metadata": {},
   "outputs": [
    {
     "data": {
      "text/plain": [
       "[2, 4, 8, 10]"
      ]
     },
     "execution_count": 86,
     "metadata": {},
     "output_type": "execute_result"
    }
   ],
   "source": [
    "del even[4]\n",
    "even"
   ]
  },
  {
   "cell_type": "code",
   "execution_count": 87,
   "id": "4f5b4607",
   "metadata": {},
   "outputs": [],
   "source": [
    "del even"
   ]
  },
  {
   "cell_type": "code",
   "execution_count": 89,
   "id": "b97d1a58",
   "metadata": {},
   "outputs": [
    {
     "ename": "NameError",
     "evalue": "name 'even' is not defined",
     "output_type": "error",
     "traceback": [
      "\u001b[1;31m---------------------------------------------------------------------------\u001b[0m",
      "\u001b[1;31mNameError\u001b[0m                                 Traceback (most recent call last)",
      "Cell \u001b[1;32mIn[89], line 1\u001b[0m\n\u001b[1;32m----> 1\u001b[0m \u001b[43meven\u001b[49m\n",
      "\u001b[1;31mNameError\u001b[0m: name 'even' is not defined"
     ]
    }
   ],
   "source": [
    "even"
   ]
  },
  {
   "cell_type": "code",
   "execution_count": 90,
   "id": "434868b7",
   "metadata": {},
   "outputs": [
    {
     "data": {
      "text/plain": [
       "()"
      ]
     },
     "execution_count": 90,
     "metadata": {},
     "output_type": "execute_result"
    }
   ],
   "source": [
    "t = ()\n",
    "t"
   ]
  },
  {
   "cell_type": "code",
   "execution_count": 93,
   "id": "f0964166",
   "metadata": {},
   "outputs": [
    {
     "data": {
      "text/plain": [
       "(1, 2, 3.5, 'ghayur')"
      ]
     },
     "execution_count": 93,
     "metadata": {},
     "output_type": "execute_result"
    }
   ],
   "source": [
    "t = (1,2,3.5,\"ghayur\")\n",
    "t"
   ]
  },
  {
   "cell_type": "code",
   "execution_count": 94,
   "id": "a3f1ed53",
   "metadata": {},
   "outputs": [
    {
     "data": {
      "text/plain": [
       "('ghayur', [12, 3, 4], [5, 6, 7])"
      ]
     },
     "execution_count": 94,
     "metadata": {},
     "output_type": "execute_result"
    }
   ],
   "source": [
    "t = (\"ghayur\",[12,3,4],[5,6,7])\n",
    "t"
   ]
  },
  {
   "cell_type": "code",
   "execution_count": 95,
   "id": "a8a6c467",
   "metadata": {},
   "outputs": [
    {
     "data": {
      "text/plain": [
       "(1, 2, 3, 'ghayur')"
      ]
     },
     "execution_count": 95,
     "metadata": {},
     "output_type": "execute_result"
    }
   ],
   "source": [
    "a = 1,2,3,\"ghayur\"\n",
    "a"
   ]
  },
  {
   "cell_type": "code",
   "execution_count": 96,
   "id": "9a4b8cb6",
   "metadata": {},
   "outputs": [],
   "source": [
    "a,b,c,d = a"
   ]
  },
  {
   "cell_type": "code",
   "execution_count": 97,
   "id": "86d1ef16",
   "metadata": {},
   "outputs": [
    {
     "data": {
      "text/plain": [
       "1"
      ]
     },
     "execution_count": 97,
     "metadata": {},
     "output_type": "execute_result"
    }
   ],
   "source": [
    "a"
   ]
  },
  {
   "cell_type": "code",
   "execution_count": 98,
   "id": "7772559b",
   "metadata": {},
   "outputs": [
    {
     "data": {
      "text/plain": [
       "2"
      ]
     },
     "execution_count": 98,
     "metadata": {},
     "output_type": "execute_result"
    }
   ],
   "source": [
    "b"
   ]
  },
  {
   "cell_type": "code",
   "execution_count": 99,
   "id": "4c784cd7",
   "metadata": {},
   "outputs": [
    {
     "data": {
      "text/plain": [
       "3"
      ]
     },
     "execution_count": 99,
     "metadata": {},
     "output_type": "execute_result"
    }
   ],
   "source": [
    "c"
   ]
  },
  {
   "cell_type": "code",
   "execution_count": 100,
   "id": "c7d4fe4d",
   "metadata": {},
   "outputs": [
    {
     "data": {
      "text/plain": [
       "'ghayur'"
      ]
     },
     "execution_count": 100,
     "metadata": {},
     "output_type": "execute_result"
    }
   ],
   "source": [
    "d"
   ]
  },
  {
   "cell_type": "code",
   "execution_count": null,
   "id": "b94af3d6",
   "metadata": {},
   "outputs": [],
   "source": []
  },
  {
   "cell_type": "code",
   "execution_count": null,
   "id": "99f0c614",
   "metadata": {},
   "outputs": [],
   "source": []
  }
 ],
 "metadata": {
  "kernelspec": {
   "display_name": "Python 3 (ipykernel)",
   "language": "python",
   "name": "python3"
  },
  "language_info": {
   "codemirror_mode": {
    "name": "ipython",
    "version": 3
   },
   "file_extension": ".py",
   "mimetype": "text/x-python",
   "name": "python",
   "nbconvert_exporter": "python",
   "pygments_lexer": "ipython3",
   "version": "3.10.9"
  }
 },
 "nbformat": 4,
 "nbformat_minor": 5
}
