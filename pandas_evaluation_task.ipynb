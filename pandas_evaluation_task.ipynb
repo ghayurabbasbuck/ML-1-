{
 "cells": [
  {
   "cell_type": "markdown",
   "metadata": {},
   "source": [
    "# Perform the following analysis on the provided file \"demo.csv\".\n",
    "\n",
    "\n",
    "## 1. Which month saw the highest joining of the employees\n",
    "\n",
    "   function name: max_joinings_month()\n",
    "   \n",
    "   inputs: DataFrame\n",
    "   \n",
    "   outputs: str\n",
    "   \n",
    "   \n",
    "## 2. What is the mean salary is the state KS\n",
    "   \n",
    "   function name: mean_ks_salary()\n",
    "   \n",
    "   inputs: DataFrame\n",
    "   \n",
    "   outputs: float\n",
    "   \n",
    "   \n",
    "## 3. Which Region has highest mean salary\n",
    "   \n",
    "   function name: max_mean_salary_region()\n",
    "   \n",
    "   inputs: DataFrame\n",
    "   \n",
    "   outputs: str\n",
    "   \n",
    "   \n",
    "## 4. Which region has lowest mean salary\n",
    "   \n",
    "   function name: min_mean_salary_region()\n",
    "   \n",
    "   inputs: DataFrame\n",
    "   \n",
    "   outputs: str\n",
    "   \n",
    "   \n",
    "## 5. Which City has highest mean weight\n",
    "   \n",
    "   function name: max_mean_weight_city()\n",
    "   \n",
    "   inputs: DataFrame\n",
    "   \n",
    "   outputs: str\n",
    "   \n",
    "   \n",
    "## 6. What is the difference between mean salary of Doctors and Professors\n",
    "   \n",
    "   function name: dr_prof_mean_salary_diff()\n",
    "   \n",
    "   inputs: DataFrame\n",
    "   \n",
    "   outputs: float\n",
    "   \n",
    "   \n",
    "## 7. How many female use yahoo\n",
    "   \n",
    "   function name: females_with_yahoo()\n",
    "   \n",
    "   inputs: DataFrame\n",
    "   \n",
    "   outputs: int\n",
    "   \n",
    "   \n",
    "## 8. How many Doctors use gmail\n",
    "   \n",
    "   function name: doctors_with_gmail()\n",
    "   \n",
    "   inputs: DataFrame\n",
    "   \n",
    "   outputs: int\n",
    "   \n",
    "   \n",
    "## 9. What is the password of the youngest male\n",
    "   \n",
    "   function name: youngest_male_password()\n",
    "   \n",
    "   inputs: DataFrame\n",
    "   \n",
    "   outputs: str\n"
   ]
  },
  {
   "cell_type": "code",
   "execution_count": 5,
   "metadata": {},
   "outputs": [],
   "source": [
    "import pandas as pd\n",
    "\n",
    "# demo.csv\n",
    "# file_path = \"demo.csv\"\n",
    "# df = pd.read_csv(file_path)\n",
    "# display(df)\n",
    "\n",
    "# test.csv\n",
    "file_path = \"test1.csv\"\n",
    "test_df = pd.read_csv(file_path)\n",
    "# display(test_df)\n"
   ]
  },
  {
   "cell_type": "markdown",
   "metadata": {},
   "source": [
    "## 1. Which month saw the highest joining of the employees\n",
    "\n",
    "   function name: max_joinings_month()\n",
    "   \n",
    "   inputs: DataFrame\n",
    "   \n",
    "   outputs: str"
   ]
  },
  {
   "cell_type": "code",
   "execution_count": 2,
   "metadata": {},
   "outputs": [
    {
     "ename": "IndentationError",
     "evalue": "expected an indented block after function definition on line 1 (1191400449.py, line 4)",
     "output_type": "error",
     "traceback": [
      "\u001b[1;36m  Cell \u001b[1;32mIn[2], line 4\u001b[1;36m\u001b[0m\n\u001b[1;33m    print(\"on demo.csv\",max_joinings_month(df))\u001b[0m\n\u001b[1;37m    ^\u001b[0m\n\u001b[1;31mIndentationError\u001b[0m\u001b[1;31m:\u001b[0m expected an indented block after function definition on line 1\n"
     ]
    }
   ],
   "source": [
    "def max_joinings_month(df):\n",
    "    # your code here\n",
    "    \n",
    "print(\"on demo.csv\",max_joinings_month(df))\n",
    "print(\"on test.csv\",max_joinings_month(test_df))\n"
   ]
  },
  {
   "cell_type": "markdown",
   "metadata": {},
   "source": [
    "## 2. What is the mean salary is the state KS\n",
    "   \n",
    "   function name: mean_ks_salary()\n",
    "   \n",
    "   inputs: DataFrame\n",
    "   \n",
    "   outputs: float"
   ]
  },
  {
   "cell_type": "code",
   "execution_count": 13,
   "metadata": {},
   "outputs": [
    {
     "name": "stdout",
     "output_type": "stream",
     "text": [
      "121682.33333333333\n"
     ]
    }
   ],
   "source": [
    "ks_salary = test_df[test_df['State']=='KS']['Salary']\n",
    "print(ks_salary.mean())"
   ]
  },
  {
   "cell_type": "markdown",
   "metadata": {},
   "source": [
    "## 3. Which Region has highest mean salary\n",
    "   \n",
    "   function name: max_mean_salary_region()\n",
    "   \n",
    "   inputs: DataFrame\n",
    "   \n",
    "   outputs: str"
   ]
  },
  {
   "cell_type": "code",
   "execution_count": 7,
   "metadata": {},
   "outputs": [
    {
     "name": "stdout",
     "output_type": "stream",
     "text": [
      "on test.csv West\n"
     ]
    }
   ],
   "source": [
    "def max_mean_salary_region(df):\n",
    "    max_salary = df.groupby('Region')['Salary'].mean()\n",
    "    return max_salary.idxmax() \n",
    "\n",
    "# print(\"on demo.csv\",max_mean_salary_region(df))\n",
    "print(\"on test.csv\",max_mean_salary_region(test_df))\n"
   ]
  },
  {
   "cell_type": "markdown",
   "metadata": {},
   "source": [
    "## 4. Which region has lowest mean salary\n",
    "   \n",
    "   function name: min_mean_salary_region()\n",
    "   \n",
    "   inputs: DataFrame\n",
    "   \n",
    "   outputs: str"
   ]
  },
  {
   "cell_type": "code",
   "execution_count": 8,
   "metadata": {},
   "outputs": [
    {
     "name": "stdout",
     "output_type": "stream",
     "text": [
      "on test.csv Midwest\n"
     ]
    }
   ],
   "source": [
    "def min_mean_salary_region(df):\n",
    "    min_salary = df.groupby('Region')['Salary'].mean()\n",
    "    return min_salary.idxmin()\n",
    "\n",
    "# print(\"on demo.csv\",min_mean_salary_region(df))\n",
    "print(\"on test.csv\",min_mean_salary_region(test_df))\n"
   ]
  },
  {
   "cell_type": "markdown",
   "metadata": {},
   "source": [
    "## 5. Which City has highest mean weight\n",
    "   \n",
    "   function name: max_mean_weight_city()\n",
    "   \n",
    "   inputs: DataFrame\n",
    "   \n",
    "   outputs: str"
   ]
  },
  {
   "cell_type": "code",
   "execution_count": 9,
   "metadata": {},
   "outputs": [
    {
     "name": "stdout",
     "output_type": "stream",
     "text": [
      "on test.csv Conroe\n"
     ]
    }
   ],
   "source": [
    "def max_mean_weight_city(df):\n",
    "    high_weight = df.groupby('City')['Weight in Kgs.'].mean()\n",
    "    return high_weight.idxmax()\n",
    "# print(\"on demo.csv\",max_mean_weight_city(df))\n",
    "print(\"on test.csv\",max_mean_weight_city(test_df))\n"
   ]
  },
  {
   "cell_type": "markdown",
   "metadata": {},
   "source": [
    "## 6. What is the difference between mean salary of Doctors and Professors\n",
    "   \n",
    "   function name: dr_prof_mean_salary_diff()\n",
    "   \n",
    "   inputs: DataFrame\n",
    "   \n",
    "   outputs: float"
   ]
  },
  {
   "cell_type": "code",
   "execution_count": 10,
   "metadata": {},
   "outputs": [
    {
     "ename": "NameError",
     "evalue": "name 'pro' is not defined",
     "output_type": "error",
     "traceback": [
      "\u001b[1;31m---------------------------------------------------------------------------\u001b[0m",
      "\u001b[1;31mNameError\u001b[0m                                 Traceback (most recent call last)",
      "Cell \u001b[1;32mIn[10], line 7\u001b[0m\n\u001b[0;32m      5\u001b[0m     pro  \n\u001b[0;32m      6\u001b[0m \u001b[38;5;66;03m# print(\"on demo.csv\",dr_prof_mean_salary_diff(df))\u001b[39;00m\n\u001b[1;32m----> 7\u001b[0m \u001b[38;5;28mprint\u001b[39m(\u001b[38;5;124m\"\u001b[39m\u001b[38;5;124mon test.csv\u001b[39m\u001b[38;5;124m\"\u001b[39m,\u001b[43mdr_prof_mean_salary_diff\u001b[49m\u001b[43m(\u001b[49m\u001b[43mtest_df\u001b[49m\u001b[43m)\u001b[49m)\n",
      "Cell \u001b[1;32mIn[10], line 5\u001b[0m, in \u001b[0;36mdr_prof_mean_salary_diff\u001b[1;34m(df)\u001b[0m\n\u001b[0;32m      3\u001b[0m pro_sal \u001b[38;5;241m=\u001b[39m df[df[\u001b[38;5;124m'\u001b[39m\u001b[38;5;124mName Prefix\u001b[39m\u001b[38;5;124m'\u001b[39m]\u001b[38;5;241m==\u001b[39m \u001b[38;5;124m'\u001b[39m\u001b[38;5;124mprof\u001b[39m\u001b[38;5;124m'\u001b[39m]\n\u001b[0;32m      4\u001b[0m doc_sal\u001b[38;5;241m.\u001b[39mmean()\n\u001b[1;32m----> 5\u001b[0m \u001b[43mpro\u001b[49m\n",
      "\u001b[1;31mNameError\u001b[0m: name 'pro' is not defined"
     ]
    }
   ],
   "source": [
    "def dr_prof_mean_salary_diff(df):\n",
    "    doc_sal = df[df['Name Prefix'] =='Drs']['Salary']\n",
    "    pro_sal = df[df['Name Prefix']== 'prof']\n",
    "    doc_sal.mean()\n",
    "    pro  \n",
    "# print(\"on demo.csv\",dr_prof_mean_salary_diff(df))\n",
    "print(\"on test.csv\",dr_prof_mean_salary_diff(test_df))\n"
   ]
  },
  {
   "cell_type": "markdown",
   "metadata": {},
   "source": [
    "## 7. How many female use yahoo\n",
    "   \n",
    "   function name: females_with_yahoo()\n",
    "   \n",
    "   inputs: DataFrame\n",
    "   \n",
    "   outputs: int"
   ]
  },
  {
   "cell_type": "code",
   "execution_count": 11,
   "metadata": {},
   "outputs": [
    {
     "ename": "AttributeError",
     "evalue": "'DataFrame' object has no attribute 'count_values'",
     "output_type": "error",
     "traceback": [
      "\u001b[1;31m---------------------------------------------------------------------------\u001b[0m",
      "\u001b[1;31mAttributeError\u001b[0m                            Traceback (most recent call last)",
      "Cell \u001b[1;32mIn[11], line 5\u001b[0m\n\u001b[0;32m      2\u001b[0m     df\u001b[38;5;241m.\u001b[39mloc[(df[\u001b[38;5;124m'\u001b[39m\u001b[38;5;124mGender\u001b[39m\u001b[38;5;124m'\u001b[39m]\u001b[38;5;241m==\u001b[39m\u001b[38;5;124m'\u001b[39m\u001b[38;5;124mF\u001b[39m\u001b[38;5;124m'\u001b[39m)\u001b[38;5;241m&\u001b[39m (df[\u001b[38;5;124m'\u001b[39m\u001b[38;5;124mE Mail\u001b[39m\u001b[38;5;124m'\u001b[39m] \u001b[38;5;241m==\u001b[39m\u001b[38;5;124m'\u001b[39m\u001b[38;5;124myahoo\u001b[39m\u001b[38;5;124m'\u001b[39m)]\u001b[38;5;241m.\u001b[39mcount_values()\n\u001b[0;32m      4\u001b[0m \u001b[38;5;66;03m# print(\"on demo.csv\",females_with_yahoo(df))\u001b[39;00m\n\u001b[1;32m----> 5\u001b[0m \u001b[38;5;28mprint\u001b[39m(\u001b[38;5;124m\"\u001b[39m\u001b[38;5;124mon test.csv\u001b[39m\u001b[38;5;124m\"\u001b[39m,\u001b[43mfemales_with_yahoo\u001b[49m\u001b[43m(\u001b[49m\u001b[43mtest_df\u001b[49m\u001b[43m)\u001b[49m)\n",
      "Cell \u001b[1;32mIn[11], line 2\u001b[0m, in \u001b[0;36mfemales_with_yahoo\u001b[1;34m(df)\u001b[0m\n\u001b[0;32m      1\u001b[0m \u001b[38;5;28;01mdef\u001b[39;00m \u001b[38;5;21mfemales_with_yahoo\u001b[39m(df):\n\u001b[1;32m----> 2\u001b[0m     \u001b[43mdf\u001b[49m\u001b[38;5;241;43m.\u001b[39;49m\u001b[43mloc\u001b[49m\u001b[43m[\u001b[49m\u001b[43m(\u001b[49m\u001b[43mdf\u001b[49m\u001b[43m[\u001b[49m\u001b[38;5;124;43m'\u001b[39;49m\u001b[38;5;124;43mGender\u001b[39;49m\u001b[38;5;124;43m'\u001b[39;49m\u001b[43m]\u001b[49m\u001b[38;5;241;43m==\u001b[39;49m\u001b[38;5;124;43m'\u001b[39;49m\u001b[38;5;124;43mF\u001b[39;49m\u001b[38;5;124;43m'\u001b[39;49m\u001b[43m)\u001b[49m\u001b[38;5;241;43m&\u001b[39;49m\u001b[43m \u001b[49m\u001b[43m(\u001b[49m\u001b[43mdf\u001b[49m\u001b[43m[\u001b[49m\u001b[38;5;124;43m'\u001b[39;49m\u001b[38;5;124;43mE Mail\u001b[39;49m\u001b[38;5;124;43m'\u001b[39;49m\u001b[43m]\u001b[49m\u001b[43m \u001b[49m\u001b[38;5;241;43m==\u001b[39;49m\u001b[38;5;124;43m'\u001b[39;49m\u001b[38;5;124;43myahoo\u001b[39;49m\u001b[38;5;124;43m'\u001b[39;49m\u001b[43m)\u001b[49m\u001b[43m]\u001b[49m\u001b[38;5;241;43m.\u001b[39;49m\u001b[43mcount_values\u001b[49m()\n",
      "File \u001b[1;32m~\\anaconda3\\lib\\site-packages\\pandas\\core\\generic.py:5902\u001b[0m, in \u001b[0;36mNDFrame.__getattr__\u001b[1;34m(self, name)\u001b[0m\n\u001b[0;32m   5895\u001b[0m \u001b[38;5;28;01mif\u001b[39;00m (\n\u001b[0;32m   5896\u001b[0m     name \u001b[38;5;129;01mnot\u001b[39;00m \u001b[38;5;129;01min\u001b[39;00m \u001b[38;5;28mself\u001b[39m\u001b[38;5;241m.\u001b[39m_internal_names_set\n\u001b[0;32m   5897\u001b[0m     \u001b[38;5;129;01mand\u001b[39;00m name \u001b[38;5;129;01mnot\u001b[39;00m \u001b[38;5;129;01min\u001b[39;00m \u001b[38;5;28mself\u001b[39m\u001b[38;5;241m.\u001b[39m_metadata\n\u001b[0;32m   5898\u001b[0m     \u001b[38;5;129;01mand\u001b[39;00m name \u001b[38;5;129;01mnot\u001b[39;00m \u001b[38;5;129;01min\u001b[39;00m \u001b[38;5;28mself\u001b[39m\u001b[38;5;241m.\u001b[39m_accessors\n\u001b[0;32m   5899\u001b[0m     \u001b[38;5;129;01mand\u001b[39;00m \u001b[38;5;28mself\u001b[39m\u001b[38;5;241m.\u001b[39m_info_axis\u001b[38;5;241m.\u001b[39m_can_hold_identifiers_and_holds_name(name)\n\u001b[0;32m   5900\u001b[0m ):\n\u001b[0;32m   5901\u001b[0m     \u001b[38;5;28;01mreturn\u001b[39;00m \u001b[38;5;28mself\u001b[39m[name]\n\u001b[1;32m-> 5902\u001b[0m \u001b[38;5;28;01mreturn\u001b[39;00m \u001b[38;5;28;43mobject\u001b[39;49m\u001b[38;5;241;43m.\u001b[39;49m\u001b[38;5;21;43m__getattribute__\u001b[39;49m\u001b[43m(\u001b[49m\u001b[38;5;28;43mself\u001b[39;49m\u001b[43m,\u001b[49m\u001b[43m \u001b[49m\u001b[43mname\u001b[49m\u001b[43m)\u001b[49m\n",
      "\u001b[1;31mAttributeError\u001b[0m: 'DataFrame' object has no attribute 'count_values'"
     ]
    }
   ],
   "source": [
    "def females_with_yahoo(df):\n",
    "    df.loc[(df['Gender']=='F')& (df['E Mail'] =='yahoo')].count_values()\n",
    "\n",
    "# print(\"on demo.csv\",females_with_yahoo(df))\n",
    "print(\"on test.csv\",females_with_yahoo(test_df))\n"
   ]
  },
  {
   "cell_type": "markdown",
   "metadata": {},
   "source": [
    "## 8. How many Doctors use gmail\n",
    "   \n",
    "   function name: doctors_with_gmail()\n",
    "   \n",
    "   inputs: DataFrame\n",
    "   \n",
    "   outputs: int"
   ]
  },
  {
   "cell_type": "code",
   "execution_count": 12,
   "metadata": {},
   "outputs": [
    {
     "name": "stdout",
     "output_type": "stream",
     "text": [
      "on test.csv None\n"
     ]
    }
   ],
   "source": [
    "def doctors_with_gmail(df):\n",
    "    filtered_df = df[(df['Name Prefix'].isin(['Drs.', 'Dr'])) & (df['E Mail'].str.endswith('mail'))]\n",
    "\n",
    "# print(\"on demo.csv\",doctors_with_gmail(df))\n",
    "print(\"on test.csv\",doctors_with_gmail(test_df))\n"
   ]
  },
  {
   "cell_type": "markdown",
   "metadata": {},
   "source": [
    "## 9. What is the password of the youngest male\n",
    "   \n",
    "   function name: youngest_male_password()\n",
    "   \n",
    "   inputs: DataFrame\n",
    "   \n",
    "   outputs: str"
   ]
  },
  {
   "cell_type": "code",
   "execution_count": 10,
   "metadata": {},
   "outputs": [
    {
     "name": "stdout",
     "output_type": "stream",
     "text": [
      "on demo.csv xPr\\aGPTQ#v\n",
      "on test.csv Output Hidden\n"
     ]
    }
   ],
   "source": [
    "def youngest_male_password(df):\n",
    "    # \n",
    "\n",
    "print(\"on demo.csv\",youngest_male_password(df))\n",
    "# print(\"on test.csv\",youngest_male_password(test_df))\n"
   ]
  }
 ],
 "metadata": {
  "kernelspec": {
   "display_name": "Python 3 (ipykernel)",
   "language": "python",
   "name": "python3"
  },
  "language_info": {
   "codemirror_mode": {
    "name": "ipython",
    "version": 3
   },
   "file_extension": ".py",
   "mimetype": "text/x-python",
   "name": "python",
   "nbconvert_exporter": "python",
   "pygments_lexer": "ipython3",
   "version": "3.10.9"
  }
 },
 "nbformat": 4,
 "nbformat_minor": 2
}
