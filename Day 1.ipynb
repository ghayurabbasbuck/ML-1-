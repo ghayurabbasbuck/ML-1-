{
 "cells": [
  {
   "cell_type": "markdown",
   "id": "1489deb9",
   "metadata": {},
   "source": [
    "# PYTHON BASICS"
   ]
  },
  {
   "cell_type": "markdown",
   "id": "1ec9bb07",
   "metadata": {},
   "source": [
    "# Question: 1\n",
    "Write a program which will find all such numbers which are divisible by 7 but are not a multiple of 5, between 2000 and 3200 (both included).\n",
    "The numbers obtained should be printed in a comma-separated sequence on a single line.\n",
    "\n",
    "Hints: \n",
    "Consider use range(#begin, #end) method"
   ]
  },
  {
   "cell_type": "code",
   "execution_count": 34,
   "id": "e4dfb1d3",
   "metadata": {},
   "outputs": [
    {
     "name": "stdout",
     "output_type": "stream",
     "text": [
      "2002,2009,2016,2023,2030,2037,2044,2051,2058,2065,2072,2079,2086,2093,2100,2107,2114,2121,2128,2135,2142,2149,2156,2163,2170,2177,2184,2191,2198,2205,2212,2219,2226,2233,2240,2247,2254,2261,2268,2275,2282,2289,2296,2303,2310,2317,2324,2331,2338,2345,2352,2359,2366,2373,2380,2387,2394,2401,2408,2415,2422,2429,2436,2443,2450,2457,2464,2471,2478,2485,2492,2499,2506,2513,2520,2527,2534,2541,2548,2555,2562,2569,2576,2583,2590,2597,2604,2611,2618,2625,2632,2639,2646,2653,2660,2667,2674,2681,2688,2695,2702,2709,2716,2723,2730,2737,2744,2751,2758,2765,2772,2779,2786,2793,2800,2807,2814,2821,2828,2835,2842,2849,2856,2863,2870,2877,2884,2891,2898,2905,2912,2919,2926,2933,2940,2947,2954,2961,2968,2975,2982,2989,2996,3003,3010,3017,3024,3031,3038,3045,3052,3059,3066,3073,3080,3087,3094,3101,3108,3115,3122,3129,3136,3143,3150,3157,3164,3171,3178,3185,3192,3199\n"
     ]
    }
   ],
   "source": [
    "num = range(2000,3200)\n",
    "l = []\n",
    "for a in num:\n",
    "    if a%7==0 and a/5!=0:\n",
    "        l.append(str(a))\n",
    "print(','.join(l))"
   ]
  },
  {
   "cell_type": "markdown",
   "id": "39a98881",
   "metadata": {},
   "source": [
    "# Question:\n",
    "Write a program which can compute the factorial of a given numbers.\n",
    "The results should be printed in a comma-separated sequence on a single line.\n",
    "Suppose the following input is supplied to the program:\n",
    "8\n",
    "Then, the output should be:\n",
    "40320\n",
    "\n",
    "Hints:\n",
    "In case of input data being supplied to the question, it should be assumed to be a console input."
   ]
  },
  {
   "cell_type": "code",
   "execution_count": 35,
   "id": "c15b4f35",
   "metadata": {},
   "outputs": [
    {
     "name": "stdout",
     "output_type": "stream",
     "text": [
      "40320\n"
     ]
    }
   ],
   "source": [
    "def factorial(n):\n",
    "    if n == 0 or n == 1:\n",
    "        return 1\n",
    "    else:\n",
    "        return n*factorial(n-1)\n",
    "number = 8\n",
    "result = factorial(number)\n",
    "print(result)"
   ]
  },
  {
   "cell_type": "markdown",
   "id": "7b0d4267",
   "metadata": {},
   "source": [
    "### Question 3\n",
    "Level 1\n",
    "\n",
    "Question:\n",
    "With a given integral number n, write a program to generate a dictionary that contains (i, i*i) such that is an integral number between 1 and n (both included). and then the program should print the dictionary.\n",
    "Suppose the following input is supplied to the program:\n",
    "8\n",
    "Then, the output should be:\n",
    "{1: 1, 2: 4, 3: 9, 4: 16, 5: 25, 6: 36, 7: 49, 8: 64}\n",
    "\n",
    "Hints:\n",
    "In case of input data being supplied to the question, it should be assumed to be a console input.\n",
    "Consider use dict()# "
   ]
  },
  {
   "cell_type": "code",
   "execution_count": 36,
   "id": "4ed4934b",
   "metadata": {},
   "outputs": [
    {
     "name": "stdout",
     "output_type": "stream",
     "text": [
      "enter a number: 8\n",
      "{1: 1, 2: 4, 3: 9, 4: 16, 5: 25, 6: 36, 7: 49, 8: 64}\n"
     ]
    }
   ],
   "source": [
    "n = int(input('enter a number: '))\n",
    "dict = {i:i*i for i in range(1, n+1)}\n",
    "print(dict)"
   ]
  },
  {
   "cell_type": "markdown",
   "id": "e1d453aa",
   "metadata": {},
   "source": [
    "# Question 4\n",
    "Level 1\n",
    "\n",
    "Question:\n",
    "Write a program which accepts a sequence of comma-separated numbers from console and generate a list and a tuple which contains every number.\n",
    "Suppose the following input is supplied to the program:\n",
    "34,67,55,33,12,98\n",
    "Then, the output should be:\n",
    "['34', '67', '55', '33', '12', '98']\n",
    "('34', '67', '55', '33', '12', '98')\n",
    "\n",
    "Hints:\n",
    "In case of input data being supplied to the question, it should be assumed to be a console input.\n",
    "tuple() method can convert list to tuple"
   ]
  },
  {
   "cell_type": "code",
   "execution_count": null,
   "id": "2199026e",
   "metadata": {},
   "outputs": [],
   "source": [
    "num = input('enter a sequence of comma-separated numbers: ')\n",
    "new_list = num.split(',')\n",
    "print(tuple(new_list))\n",
    "print(list(new_list))"
   ]
  },
  {
   "cell_type": "markdown",
   "id": "f523aaf7",
   "metadata": {},
   "source": [
    "# Question 6\n",
    "Level 2\n",
    "\n",
    "Question:\n",
    "Write a program that calculates and prints the value according to the given formula:\n",
    "Q = Square root of [(2 * C * D)/H]\n",
    "Following are the fixed values of C and H:\n",
    "C is 50. H is 30.\n",
    "D is the variable whose values should be input to your program in a comma-separated sequence.\n",
    "Example\n",
    "Let us assume the following comma separated input sequence is given to the program:\n",
    "100,150,180\n",
    "The output of the program should be:\n",
    "18,22,24\n",
    "\n",
    "Hints:\n",
    "If the output received is in decimal form, it should be rounded off to its nearest value (for example, if the output received is 26.0, it should be printed as 26)\n",
    "In case of input data being supplied to the question, it should be assumed to be a console input."
   ]
  },
  {
   "cell_type": "code",
   "execution_count": null,
   "id": "912d5572",
   "metadata": {},
   "outputs": [],
   "source": [
    "import math\n",
    "C = 50\n",
    "H = 30\n",
    "res_list = []\n",
    "input_val = input(\"Enter the value of D: \")\n",
    "new_val = input_val.split(',')\n",
    "for D in new_val:\n",
    "    Q = int(round(math.sqrt((2 * C * int(D))/H)))\n",
    "    res_list.append(Q)\n",
    "print(res_list)"
   ]
  },
  {
   "cell_type": "markdown",
   "id": "7a735ec3",
   "metadata": {},
   "source": [
    "# Question 7\n",
    "Level 2\n",
    "\n",
    "Question:\n",
    "Write a program which takes 2 digits, X,Y as input and generates a 2-dimensional array. The element value in the i-th row and j-th column of the array should be i*j.\n",
    "Note: i=0,1.., X-1; j=0,1,¡­Y-1.\n",
    "Example\n",
    "Suppose the following inputs are given to the program:\n",
    "3,5\n",
    "Then, the output of the program should be:\n",
    "[[0, 0, 0, 0, 0], [0, 1, 2, 3, 4], [0, 2, 4, 6, 8]] \n",
    "\n",
    "Hints:\n",
    "Note: In case of input data being supplied to the question, it should be assumed to be a console input in a comma-separated form."
   ]
  },
  {
   "cell_type": "markdown",
   "id": "33fa2c42",
   "metadata": {},
   "source": [
    "# Question 8\n",
    "Level 2\n",
    "\n",
    "Question:\n",
    "Write a program that accepts a comma separated sequence of words as input and prints the words in a comma-separated sequence after sorting them alphabetically.\n",
    "Suppose the following input is supplied to the program:\n",
    "without,hello,bag,world\n",
    "Then, the output should be:\n",
    "bag,hello,without,world\n",
    "\n",
    "Hints:\n",
    "In case of input data being supplied to the question, it should be assumed to be a console input."
   ]
  },
  {
   "cell_type": "code",
   "execution_count": null,
   "id": "297618ff",
   "metadata": {},
   "outputs": [],
   "source": [
    "value = input('enter the value: ')\n",
    "new_val = value.split(',')\n",
    "sorted_value = sorted(new_val)\n",
    "print(sorted_value)"
   ]
  },
  {
   "cell_type": "markdown",
   "id": "60fdfa65",
   "metadata": {},
   "source": [
    "# Question 9\n",
    "Write a program that accepts sequence of lines as input and prints the lines after making all characters in the sentence capitalized.\n",
    "Suppose the following input is supplied to the program:\n",
    "Hello world\n",
    "Practice makes perfect\n",
    "Then, the output should be:\n",
    "HELLO WORLD\n",
    "PRACTICE MAKES PERFECT\n",
    "\n",
    "Hints:\n",
    "In case of input data being supplied to the question, it should be assumed to be a console input."
   ]
  },
  {
   "cell_type": "code",
   "execution_count": null,
   "id": "a99450ed",
   "metadata": {},
   "outputs": [],
   "source": [
    "input_lines = []\n",
    "while True:\n",
    "    line = input('enter a line: ')\n",
    "    if not line:\n",
    "        break\n",
    "    input_lines.append(line)\n",
    "cap_line = [line.upper() for line in input_lines]\n",
    "for line in cap_line:\n",
    "    print(line)"
   ]
  },
  {
   "cell_type": "markdown",
   "id": "4c73277a",
   "metadata": {},
   "source": [
    "# Question 10\n",
    "Level 2\n",
    "\n",
    "Question:\n",
    "Write a program that accepts a sequence of whitespace separated words as input and prints the words after removing all duplicate words and sorting them alphanumerically.\n",
    "Suppose the following input is supplied to the program:\n",
    "hello world and practice makes perfect and hello world again\n",
    "Then, the output should be:\n",
    "again and hello makes perfect practice world\n",
    "\n",
    "Hints:\n",
    "In case of input data being supplied to the question, it should be assumed to be a console input.\n",
    "We use set container to remove duplicated data automatically and then use sorted() to sort the data."
   ]
  },
  {
   "cell_type": "code",
   "execution_count": null,
   "id": "3e5aee04",
   "metadata": {},
   "outputs": [],
   "source": [
    "input_val = input('enter values: ')\n",
    "new_val = input_val.split()\n",
    "my_set = set(new_val)\n",
    "sort_set = sorted(my_set)\n",
    "print(sort_set)"
   ]
  },
  {
   "cell_type": "markdown",
   "id": "da350b0e",
   "metadata": {},
   "source": [
    "# Question 11\n",
    "Level 2\n",
    "\n",
    "Question:\n",
    "Write a program which accepts a sequence of comma separated 4 digit binary numbers as its input and then check whether they are divisible by 5 or not. The numbers that are divisible by 5 are to be printed in a comma separated sequence.\n",
    "Example:\n",
    "0100,0011,1010,1001\n",
    "Then the output should be:\n",
    "1010\n",
    "Notes: Assume the data is input by console.\n",
    "\n",
    "Hints:\n",
    "In case of input data being supplied to the question, it should be assumed to be a console input."
   ]
  },
  {
   "cell_type": "code",
   "execution_count": null,
   "id": "51780472",
   "metadata": {},
   "outputs": [],
   "source": [
    "num = input('enter comma separated 4 digit binary numbers: ')\n",
    "split_num = num.split(',')\n",
    "div_by_5 = [binary for binary in split_num if int(binary,2)%5==0]\n",
    "print(','.join(div_by_5))"
   ]
  },
  {
   "cell_type": "markdown",
   "id": "dcbc1711",
   "metadata": {},
   "source": [
    "# Question:12\n",
    "Write a program, which will find all such numbers between 1000 and 3000 (both included) such that each digit of the number is an even number.\n",
    "The numbers obtained should be printed in a comma-separated sequence on a single line.\n",
    "\n",
    "Hints:\n",
    "In case of input data being supplied to the question, it should be assumed to be a console input."
   ]
  },
  {
   "cell_type": "code",
   "execution_count": null,
   "id": "da305e63",
   "metadata": {},
   "outputs": [],
   "source": [
    "result_numbers = []\n",
    "for number in range(1000,3001):\n",
    "    if all(int(digit) % 2 == 0 for digit in str(number)):\n",
    "        result_numbers.append(str(number))\n",
    "print(','.join(result_numbers))"
   ]
  },
  {
   "cell_type": "markdown",
   "id": "c6713be6",
   "metadata": {},
   "source": [
    "# Question 13\n",
    "Level 2\n",
    "\n",
    "Question:\n",
    "Write a program that accepts a sentence and calculate the number of letters and digits.\n",
    "Suppose the following input is supplied to the program:\n",
    "hello world! 123\n",
    "Then, the output should be:\n",
    "LETTERS 10\n",
    "DIGITS 3\n",
    "\n",
    "Hints:\n",
    "In case of input data being supplied to the question, it should be assumed to be a console input."
   ]
  },
  {
   "cell_type": "code",
   "execution_count": null,
   "id": "34073f9b",
   "metadata": {},
   "outputs": [],
   "source": [
    "sentence = input('enter the sentence or digit: ')\n",
    "letter_count = 0\n",
    "digit_count = 0\n",
    "for char in sentence:\n",
    "    if char.isalpha():\n",
    "        letter_count+=1\n",
    "    elif char.isdigit():\n",
    "        digit_count+=1\n",
    "print(\"total_letter\" , letter_count)\n",
    "print('total_digit' , digit_count)"
   ]
  },
  {
   "cell_type": "markdown",
   "id": "a0e307d5",
   "metadata": {},
   "source": [
    "# Question 14\n",
    "Level 2\n",
    "\n",
    "Question:\n",
    "Write a program that accepts a sentence and calculate the number of upper case letters and lower case letters.\n",
    "Suppose the following input is supplied to the program:\n",
    "Hello world!\n",
    "Then, the output should be:\n",
    "UPPER CASE 1\n",
    "LOWER CASE 9\n",
    "\n",
    "Hints:\n",
    "In case of input data being supplied to the question, it should be assumed to be a console input."
   ]
  },
  {
   "cell_type": "code",
   "execution_count": 7,
   "id": "ade79b26",
   "metadata": {},
   "outputs": [
    {
     "name": "stdout",
     "output_type": "stream",
     "text": [
      "enter the value: Hello world!\n",
      "UPPER:  1\n",
      "lower  9\n"
     ]
    }
   ],
   "source": [
    "sentence = input('enter the value: ')\n",
    "upper_case = 0\n",
    "lower_case = 0\n",
    "for char in sentence:\n",
    "    if char.isupper():\n",
    "        upper_case+=1\n",
    "    elif char.islower():\n",
    "        lower_case+=1\n",
    "print(\"UPPER: \",upper_case)\n",
    "print(\"lower \",lower_case)"
   ]
  },
  {
   "cell_type": "markdown",
   "id": "6c964108",
   "metadata": {},
   "source": [
    "# Question 15\n",
    "Level 2\n",
    "\n",
    "Question:\n",
    "Write a program that computes the value of a+aa+aaa+aaaa with a given digit as the value of a.\n",
    "Suppose the following input is supplied to the program:\n",
    "9\n",
    "Then, the output should be:\n",
    "11106"
   ]
  },
  {
   "cell_type": "code",
   "execution_count": 13,
   "id": "33059bbf",
   "metadata": {},
   "outputs": [
    {
     "name": "stdout",
     "output_type": "stream",
     "text": [
      "enter the value: 9\n",
      "11106\n"
     ]
    }
   ],
   "source": [
    "a = input('enter the value: ')\n",
    "result = int(a) + int(a*2) + int(a*3) + int(a*4)\n",
    "print(result)"
   ]
  },
  {
   "cell_type": "markdown",
   "id": "3a00ea8f",
   "metadata": {},
   "source": [
    "# Question 16\n",
    "Level 2\n",
    "\n",
    "Question:\n",
    "Use a list comprehension to square each odd number in a list. The list is input by a sequence of comma-separated numbers.\n",
    "Suppose the following input is supplied to the program:\n",
    "1,2,3,4,5,6,7,8,9\n",
    "Then, the output should be:\n",
    "1,3,5,7,9\n",
    "\n",
    "Hints:\n",
    "In case of input data being supplied to the question, it should be assumed to be a console input."
   ]
  },
  {
   "cell_type": "code",
   "execution_count": 23,
   "id": "df7b4f06",
   "metadata": {},
   "outputs": [
    {
     "name": "stdout",
     "output_type": "stream",
     "text": [
      "enter the number: 1,2,3,4,5,6,7,8,9\n",
      "['1', '3', '5', '7', '9']\n"
     ]
    }
   ],
   "source": [
    "number = input('enter the number: ')\n",
    "num_split = number.split(',')\n",
    "odd_list = [n for n in num_split if int(n)%2!=0]\n",
    "print(odd_list)"
   ]
  },
  {
   "cell_type": "markdown",
   "id": "666ad0ae",
   "metadata": {},
   "source": [
    "# Question 17\n",
    "Level 2\n",
    "\n",
    "Question:\n",
    "Write a program that computes the net amount of a bank account based a transaction log from console input. The transaction log format is shown as following:\n",
    "D 100\n",
    "W 200\n",
    "\n",
    "D means deposit while W means withdrawal.\n",
    "Suppose the following input is supplied to the program:\n",
    "D 300\n",
    "D 300\n",
    "W 200\n",
    "D 100\n",
    "Then, the output should be:\n",
    "500"
   ]
  },
  {
   "cell_type": "code",
   "execution_count": 31,
   "id": "1bee1ba5",
   "metadata": {},
   "outputs": [
    {
     "name": "stdout",
     "output_type": "stream",
     "text": [
      "enter or withdraw amount: D 300\n",
      "enter or withdraw amount: D 300\n",
      "enter or withdraw amount: W 200\n",
      "enter or withdraw amount: D 100\n",
      "enter or withdraw amount: \n",
      "500\n"
     ]
    }
   ],
   "source": [
    "net_amount = 0\n",
    "while True:\n",
    "    transaction = input('enter or withdraw amount: ')\n",
    "    if not transaction:\n",
    "        break\n",
    "    operation, amount = transaction.split()\n",
    "    amount = int(amount)\n",
    "    if operation == \"D\":\n",
    "        net_amount += amount\n",
    "    elif operation == \"W\":\n",
    "        net_amount-=amount\n",
    "print(net_amount)"
   ]
  },
  {
   "cell_type": "code",
   "execution_count": null,
   "id": "0926a764",
   "metadata": {},
   "outputs": [],
   "source": []
  }
 ],
 "metadata": {
  "kernelspec": {
   "display_name": "Python 3 (ipykernel)",
   "language": "python",
   "name": "python3"
  },
  "language_info": {
   "codemirror_mode": {
    "name": "ipython",
    "version": 3
   },
   "file_extension": ".py",
   "mimetype": "text/x-python",
   "name": "python",
   "nbconvert_exporter": "python",
   "pygments_lexer": "ipython3",
   "version": "3.10.9"
  }
 },
 "nbformat": 4,
 "nbformat_minor": 5
}
