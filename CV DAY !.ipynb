{
 "cells": [
  {
   "cell_type": "markdown",
   "id": "3f36efb4",
   "metadata": {},
   "source": [
    "# Image to Array"
   ]
  },
  {
   "cell_type": "code",
   "execution_count": 1,
   "id": "0ec92aad",
   "metadata": {},
   "outputs": [],
   "source": [
    "import numpy as np\n",
    "import cv2 as cv"
   ]
  },
  {
   "cell_type": "code",
   "execution_count": 2,
   "id": "33a56dcb",
   "metadata": {},
   "outputs": [
    {
     "name": "stdout",
     "output_type": "stream",
     "text": [
      "[[ 68  70  73 ...  85  86  86]\n",
      " [ 68  70  73 ...  89  89  89]\n",
      " [ 69  71  74 ...  92  92  93]\n",
      " ...\n",
      " [ 53  39  27 ... 153 152 152]\n",
      " [ 51  46  37 ... 153 152 152]\n",
      " [ 47  52  45 ... 153 152 152]]\n"
     ]
    }
   ],
   "source": [
    "img = cv.imread(\"man.jpg\",0)\n",
    "print(img)"
   ]
  },
  {
   "cell_type": "code",
   "execution_count": 3,
   "id": "56b03fe6",
   "metadata": {},
   "outputs": [
    {
     "name": "stdout",
     "output_type": "stream",
     "text": [
      "(500, 500)\n"
     ]
    }
   ],
   "source": [
    "print(img.shape)"
   ]
  },
  {
   "cell_type": "code",
   "execution_count": 4,
   "id": "e230d161",
   "metadata": {},
   "outputs": [
    {
     "name": "stdout",
     "output_type": "stream",
     "text": [
      "[[255 255 255 ...   0   0   0]\n",
      " [255 255 255 ...   0   0   0]\n",
      " [255 255 255 ...   0   0   0]\n",
      " ...\n",
      " [  0   0   0 ... 255 255 255]\n",
      " [  0   0   0 ... 255 255 255]\n",
      " [  0   0   0 ... 255 255 255]]\n"
     ]
    }
   ],
   "source": [
    "img2 = cv.imread(\"square.jpg\",0)\n",
    "print(img2)"
   ]
  },
  {
   "cell_type": "markdown",
   "id": "7ef5f063",
   "metadata": {},
   "source": [
    "# Image Reading"
   ]
  },
  {
   "cell_type": "code",
   "execution_count": 5,
   "id": "964385ce",
   "metadata": {},
   "outputs": [],
   "source": [
    "img3 = cv.imread(\"man.jpg\")\n",
    "cv.imshow(\"person\",img2)\n",
    "cv.waitKey(0)\n",
    "cv.destroyAllWindows()"
   ]
  },
  {
   "cell_type": "markdown",
   "id": "03dfae33",
   "metadata": {},
   "source": [
    "# 3. Image Writing/Saving\n"
   ]
  },
  {
   "cell_type": "code",
   "execution_count": 6,
   "id": "a13dc0a3",
   "metadata": {},
   "outputs": [
    {
     "data": {
      "text/plain": [
       "True"
      ]
     },
     "execution_count": 6,
     "metadata": {},
     "output_type": "execute_result"
    }
   ],
   "source": [
    "cv.imwrite(\"person.jpg\",img3)"
   ]
  },
  {
   "cell_type": "markdown",
   "id": "1e1f3a70",
   "metadata": {},
   "source": [
    "# 4. Image Resizing"
   ]
  },
  {
   "cell_type": "code",
   "execution_count": 7,
   "id": "2a8d904d",
   "metadata": {},
   "outputs": [],
   "source": [
    "import cv2 as cv\n",
    "img4 = cv.imread('ghayur.jpg')\n",
    "img5 = cv.resize(img4,(256,256))\n",
    "cv.imshow(\"pic\",img4)\n",
    "cv.imshow(\"res_pic\",img5)\n",
    "cv.waitKey()\n",
    "cv.destroyAllWindows()"
   ]
  },
  {
   "cell_type": "markdown",
   "id": "439a4f1e",
   "metadata": {},
   "source": [
    "# 5. Converting Color Image to Grayscal"
   ]
  },
  {
   "cell_type": "code",
   "execution_count": 8,
   "id": "e5697a1c",
   "metadata": {},
   "outputs": [],
   "source": [
    "import cv2 as cv\n",
    "img6 = cv.imread('ghayur.jpg')\n",
    "gray = cv.cvtColor(img6,cv.COLOR_BGR2GRAY)\n",
    "cv.imshow(\"origional\",img6)\n",
    "cv.imshow(\"pic\",gray)\n",
    "cv.waitKey(0)\n",
    "cv.destroyAllWindows()"
   ]
  },
  {
   "cell_type": "markdown",
   "id": "eff3ba5b",
   "metadata": {},
   "source": [
    "# 6. Image Blurring"
   ]
  },
  {
   "cell_type": "code",
   "execution_count": 9,
   "id": "466a9279",
   "metadata": {},
   "outputs": [],
   "source": [
    "img7 = cv.imread('lady.jpg')\n",
    "blur = cv.GaussianBlur(img7, (35,35),0)\n",
    "cv.imshow(\"blur\",blur)\n",
    "cv.waitKey(0)\n",
    "cv.destroyAllWindows()"
   ]
  },
  {
   "cell_type": "markdown",
   "id": "7ed31d2a",
   "metadata": {},
   "source": [
    "# 7. Image Flipping\n"
   ]
  },
  {
   "cell_type": "code",
   "execution_count": 10,
   "id": "71c2f867",
   "metadata": {},
   "outputs": [],
   "source": [
    "img7 = cv.imread('lady.jpg')\n",
    "flip = cv.flip(img7,-1)\n",
    "cv.imshow(\"blur\",flip)\n",
    "cv.waitKey(0)\n",
    "cv.destroyAllWindows()"
   ]
  },
  {
   "cell_type": "markdown",
   "id": "34c71456",
   "metadata": {},
   "source": [
    "# 8. Drawing on Image (Rectangle)"
   ]
  },
  {
   "cell_type": "code",
   "execution_count": 11,
   "id": "cab81236",
   "metadata": {},
   "outputs": [],
   "source": [
    "img9 = np.zeros((512,512,3))\n",
    "\n",
    "# Rectangle (image, start_point, end_point, color, thickness)\n",
    "# I have chosen a red color for my rectangle with a thickness of 10\n",
    "\n",
    "img9 = cv.rectangle(img9, (200,200), (300,300), (0,0,255), 10)\n",
    "cv.imshow(\"Rectangle\", img9)\n",
    "cv.waitKey(0)\n",
    "cv.destroyAllWindows()"
   ]
  },
  {
   "cell_type": "markdown",
   "id": "1eeeea04",
   "metadata": {},
   "source": [
    "# 9. Drawing on Image (Text)"
   ]
  },
  {
   "cell_type": "code",
   "execution_count": 12,
   "id": "e2cd41a5",
   "metadata": {},
   "outputs": [],
   "source": [
    "import cv2 as cv\n",
    "import numpy as np\n",
    "img10 = np.zeros((512,512,3))"
   ]
  },
  {
   "cell_type": "code",
   "execution_count": 13,
   "id": "12c2e4d5",
   "metadata": {},
   "outputs": [],
   "source": [
    "font = cv.FONT_HERSHEY_SIMPLEX\n",
    "cv.putText(img10, 'computer vision',(125,250), font,1,(0,0,255),2)\n",
    "cv.imshow('text', img10)\n",
    "cv.waitKey(0)\n",
    "cv.destroyAllWindows()"
   ]
  },
  {
   "cell_type": "markdown",
   "id": "4f3419fa",
   "metadata": {},
   "source": [
    "# 11. Image Edge Detection\n"
   ]
  },
  {
   "cell_type": "code",
   "execution_count": 14,
   "id": "d68aebce",
   "metadata": {},
   "outputs": [],
   "source": [
    "img13 = cv.imread('lady.jpg')\n",
    "edge = cv.Canny(img13, 100,200)\n",
    "cv.imshow('image',edge)\n",
    "cv.waitKey(0)\n",
    "cv.destroyAllWindows()"
   ]
  },
  {
   "cell_type": "code",
   "execution_count": null,
   "id": "011857f4",
   "metadata": {},
   "outputs": [],
   "source": []
  },
  {
   "cell_type": "code",
   "execution_count": null,
   "id": "c3bfedad",
   "metadata": {},
   "outputs": [],
   "source": []
  }
 ],
 "metadata": {
  "kernelspec": {
   "display_name": "Python 3 (ipykernel)",
   "language": "python",
   "name": "python3"
  },
  "language_info": {
   "codemirror_mode": {
    "name": "ipython",
    "version": 3
   },
   "file_extension": ".py",
   "mimetype": "text/x-python",
   "name": "python",
   "nbconvert_exporter": "python",
   "pygments_lexer": "ipython3",
   "version": "3.10.9"
  }
 },
 "nbformat": 4,
 "nbformat_minor": 5
}
